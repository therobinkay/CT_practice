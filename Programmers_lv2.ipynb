{
 "cells": [
  {
   "cell_type": "markdown",
   "id": "44194759",
   "metadata": {},
   "source": [
    "# 구현"
   ]
  },
  {
   "cell_type": "markdown",
   "id": "ba33b36c",
   "metadata": {},
   "source": [
    "## 문자열 구현"
   ]
  },
  {
   "cell_type": "markdown",
   "id": "4ac2fe30",
   "metadata": {},
   "source": [
    "### 문자열 압축\n",
    "\n",
    "https://programmers.co.kr/learn/courses/30/lessons/60057?language=python3"
   ]
  },
  {
   "cell_type": "code",
   "execution_count": 27,
   "id": "a4b5c335",
   "metadata": {},
   "outputs": [],
   "source": [
    "from itertools import groupby\n",
    "\n",
    "def solution(s):\n",
    "    answer = len(s)\n",
    "    \n",
    "    for i in range(1, len(s)//2+1):\n",
    "        val = 0   # comparison value\n",
    "        charlist = []   # list of sliced characters\n",
    "        \n",
    "        for j in range(0, len(s)-i+1, i):\n",
    "            charlist.append(s[j:j+i])\n",
    "        charlist.append(s[j+i:])   # remaining characters\n",
    "        # list of characters and frequency\n",
    "        charlist = [[k,len(list(v))] for k,v in groupby(charlist)]\n",
    "        \n",
    "        for char in charlist:\n",
    "            if char[1] > 1:   # if occurs more than once\n",
    "                val += len(char[0])+len(str(char[1]))\n",
    "            else:\n",
    "                val += len(char[0])\n",
    "        answer = min(val, answer)\n",
    "        \n",
    "    return answer"
   ]
  },
  {
   "cell_type": "code",
   "execution_count": null,
   "id": "3dcc4cce",
   "metadata": {},
   "outputs": [],
   "source": [
    "# alternative answer (no package)\n",
    "\n",
    "def solution(s):\n",
    "    answer = len(s)\n",
    "    \n",
    "    for i in range(1, len(s)//2+1):\n",
    "        count = 0\n",
    "        start, end = 0, i   # for iteration\n",
    "        \n",
    "        while end <= len(s):\n",
    "            coeff = 1   # coefficient\n",
    "            # until the substrings don't match\n",
    "            while s[start:end] == s[end:end+i]: \n",
    "                coeff += 1  # add to coefficient\n",
    "                start += i  # update start\n",
    "                end += i    # update end\n",
    "            if coeff == 1:  # if not zipped\n",
    "                count += i\n",
    "            else:   # if zipped\n",
    "                count += (i+len(str(coeff)))\n",
    "            start += i  # new start\n",
    "            end += i    # new end\n",
    "        if end > len(s):    # the last substring\n",
    "            count += (len(s)-(end-i))\n",
    "        answer = min(answer, count) # update for minimum answer\n",
    "        \n",
    "    return answer"
   ]
  },
  {
   "cell_type": "code",
   "execution_count": 28,
   "id": "19736d46",
   "metadata": {},
   "outputs": [
    {
     "name": "stdout",
     "output_type": "stream",
     "text": [
      "7\n",
      "9\n",
      "8\n",
      "14\n",
      "17\n",
      "5\n"
     ]
    }
   ],
   "source": [
    "print(solution(\"aabbaccc\"))\n",
    "print(solution(\"ababcdcdababcdcd\"))\n",
    "print(solution(\"abcabcdede\"))\n",
    "print(solution(\"abcabcabcabcdededededede\"))\n",
    "print(solution(\"xababcdcdababcdcd\"))\n",
    "print(solution(\"xxxxxxxxxxyyy\"))\n",
    "\n",
    "# expected answer: 7, 9, 8, 14, 17, 5"
   ]
  },
  {
   "cell_type": "markdown",
   "id": "7cfe45bf",
   "metadata": {},
   "source": [
    "### 124 나라의 숫자\n",
    "\n",
    "https://programmers.co.kr/learn/courses/30/lessons/12899?language=python3"
   ]
  },
  {
   "cell_type": "code",
   "execution_count": 34,
   "id": "4ce952ac",
   "metadata": {},
   "outputs": [],
   "source": [
    "def solution(n):\n",
    "    answer = ''\n",
    "    while n > 0:\n",
    "        if n%3 == 0:\n",
    "            answer += '4'\n",
    "            n = n//3-1\n",
    "        else:\n",
    "            answer += str(n%3)\n",
    "            n = n//3\n",
    "    return answer[::-1]"
   ]
  },
  {
   "cell_type": "code",
   "execution_count": 35,
   "id": "c4e729c0",
   "metadata": {},
   "outputs": [
    {
     "name": "stdout",
     "output_type": "stream",
     "text": [
      "1\n",
      "2\n",
      "4\n",
      "11\n"
     ]
    }
   ],
   "source": [
    "print(solution(1))\n",
    "print(solution(2))\n",
    "print(solution(3))\n",
    "print(solution(4))\n",
    "\n",
    "# expected answer: 1, 2, 4, 11"
   ]
  },
  {
   "cell_type": "markdown",
   "id": "a202f3dd",
   "metadata": {},
   "source": [
    "### 짝지어 제거하기\n",
    "\n",
    "https://programmers.co.kr/learn/courses/30/lessons/12973?language=python3"
   ]
  },
  {
   "cell_type": "code",
   "execution_count": 57,
   "id": "260c59ba",
   "metadata": {},
   "outputs": [],
   "source": [
    "def solution(s):\n",
    "    stack = []\n",
    "    for char in s:\n",
    "        if not stack or stack[-1] != char:\n",
    "            stack.append(char)\n",
    "        else:\n",
    "            stack.pop()\n",
    "    return 0 if stack else 1"
   ]
  },
  {
   "cell_type": "code",
   "execution_count": 58,
   "id": "56c5bd2b",
   "metadata": {},
   "outputs": [
    {
     "name": "stdout",
     "output_type": "stream",
     "text": [
      "1\n",
      "0\n"
     ]
    }
   ],
   "source": [
    "print(solution(\"baabaa\"))\n",
    "print(solution(\"cdcd\"))\n",
    "\n",
    "# expected answer: 1, 0"
   ]
  },
  {
   "cell_type": "code",
   "execution_count": null,
   "id": "07243e76",
   "metadata": {},
   "outputs": [],
   "source": []
  }
 ],
 "metadata": {
  "kernelspec": {
   "display_name": "Python 3",
   "language": "python",
   "name": "python3"
  },
  "language_info": {
   "codemirror_mode": {
    "name": "ipython",
    "version": 3
   },
   "file_extension": ".py",
   "mimetype": "text/x-python",
   "name": "python",
   "nbconvert_exporter": "python",
   "pygments_lexer": "ipython3",
   "version": "3.8.8"
  }
 },
 "nbformat": 4,
 "nbformat_minor": 5
}

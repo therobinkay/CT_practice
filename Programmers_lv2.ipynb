{
 "cells": [
  {
   "cell_type": "markdown",
   "id": "6d6ac0bf",
   "metadata": {},
   "source": [
    "# 구현"
   ]
  },
  {
   "cell_type": "markdown",
   "id": "d1e0ece3",
   "metadata": {},
   "source": [
    "### 메뉴 리뉴얼\n",
    "\n",
    "https://programmers.co.kr/learn/courses/30/lessons/72411?language=python3"
   ]
  },
  {
   "cell_type": "code",
   "execution_count": 1,
   "id": "4df8f627",
   "metadata": {},
   "outputs": [],
   "source": [
    "from itertools import combinations\n",
    "from collections import Counter\n",
    "\n",
    "def solution(orders, course):\n",
    "    ans = []\n",
    "    for num in course:  # loop for all course sizes\n",
    "        combos = []\n",
    "        for order in orders:\n",
    "            # apply sorted() for combinations (order doesn't matter)\n",
    "            combos += combinations(sorted(order), num)\n",
    "        freq = Counter(combos).most_common()    # frequency list\n",
    "        # append if:\n",
    "        # 1. it matches the max frequency\n",
    "        # 2. its frequency is greater than 1\n",
    "        ans += [k for k,v in freq if v == freq[0][1] and v > 1]\n",
    "    return sorted([''.join(x) for x in ans])"
   ]
  },
  {
   "cell_type": "code",
   "execution_count": 2,
   "id": "61724896",
   "metadata": {},
   "outputs": [
    {
     "name": "stdout",
     "output_type": "stream",
     "text": [
      "['AC', 'ACDE', 'BCFG', 'CDE']\n",
      "['ACD', 'AD', 'ADE', 'CD', 'XYZ']\n",
      "['WX', 'XY']\n"
     ]
    }
   ],
   "source": [
    "print(solution([\"ABCFG\", \"AC\", \"CDE\", \"ACDE\", \"BCFG\", \"ACDEH\"], [2,3,4]))\n",
    "print(solution([\"ABCDE\", \"AB\", \"CD\", \"ADE\", \"XYZ\", \"XYZ\", \"ACD\"], [2,3,5]))\n",
    "print(solution([\"XYZ\", \"XWY\", \"WXA\"], [2,3,4]))\n",
    "\n",
    "# expected answer: [\"AC\", \"ACDE\", \"BCFG\", \"CDE\"], [\"ACD\", \"AD\", \"ADE\", \"CD\", \"XYZ\"], [\"WX\", \"XY\"]"
   ]
  },
  {
   "cell_type": "markdown",
   "id": "5289f49e",
   "metadata": {},
   "source": [
    "### 이진 변환 반복하기\n",
    "\n",
    "https://programmers.co.kr/learn/courses/30/lessons/70129?language=python3"
   ]
  },
  {
   "cell_type": "code",
   "execution_count": 15,
   "id": "c5c45c0c",
   "metadata": {},
   "outputs": [
    {
     "name": "stdout",
     "output_type": "stream",
     "text": [
      "1.85 µs ± 8.53 ns per loop (mean ± std. dev. of 7 runs, 1000000 loops each)\n",
      "1.33 µs ± 6.8 ns per loop (mean ± std. dev. of 7 runs, 1000000 loops each)\n",
      "1.73 µs ± 6.86 ns per loop (mean ± std. dev. of 7 runs, 1000000 loops each)\n"
     ]
    }
   ],
   "source": [
    "def solution(s):\n",
    "    ans = [0,0]\n",
    "    if s == '1':\n",
    "        return ans\n",
    "    else:\n",
    "        while s != '1':\n",
    "            tmp = 0\n",
    "            for i in s:\n",
    "                if i == '0':\n",
    "                    ans[1] += 1\n",
    "                else:\n",
    "                    tmp += 1\n",
    "            s = bin(tmp)[2:]\n",
    "            ans[0] += 1\n",
    "        return ans\n",
    "    \n",
    "%timeit solution(\"110010101001\")\n",
    "%timeit solution(\"01110\")\n",
    "%timeit solution(\"1111111\")"
   ]
  },
  {
   "cell_type": "code",
   "execution_count": 10,
   "id": "4b18e532",
   "metadata": {},
   "outputs": [
    {
     "name": "stdout",
     "output_type": "stream",
     "text": [
      "[3, 8]\n",
      "[3, 3]\n",
      "[4, 1]\n"
     ]
    }
   ],
   "source": [
    "print(solution(\"110010101001\"))\n",
    "print(solution(\"01110\"))\n",
    "print(solution(\"1111111\"))\n",
    "\n",
    "# expected answer: [3,8], [3,3], [4,1]"
   ]
  },
  {
   "cell_type": "markdown",
   "id": "d200c8c4",
   "metadata": {},
   "source": [
    "### 점프와 순간 이동\n",
    "\n",
    "https://programmers.co.kr/learn/courses/30/lessons/12980?language=python3"
   ]
  },
  {
   "cell_type": "code",
   "execution_count": 20,
   "id": "652c4967",
   "metadata": {},
   "outputs": [
    {
     "name": "stdout",
     "output_type": "stream",
     "text": [
      "2\n",
      "2\n",
      "5\n",
      "346 ns ± 1.77 ns per loop (mean ± std. dev. of 7 runs, 1000000 loops each)\n",
      "345 ns ± 2.97 ns per loop (mean ± std. dev. of 7 runs, 1000000 loops each)\n",
      "1.21 µs ± 5.96 ns per loop (mean ± std. dev. of 7 runs, 1000000 loops each)\n"
     ]
    }
   ],
   "source": [
    "def solution(n):\n",
    "    ans = 0\n",
    "    while n > 0:\n",
    "        if n%2 != 0:\n",
    "            ans += 1\n",
    "        n = n//2\n",
    "    return ans\n",
    "\n",
    "print(solution(5))   # 2\n",
    "print(solution(6))   # 2\n",
    "print(solution(5000))   # 5\n",
    "\n",
    "%timeit solution(5)\n",
    "%timeit solution(6)\n",
    "%timeit solution(5000)"
   ]
  },
  {
   "cell_type": "code",
   "execution_count": 21,
   "id": "8ee0d0d6",
   "metadata": {},
   "outputs": [
    {
     "name": "stdout",
     "output_type": "stream",
     "text": [
      "2\n",
      "2\n",
      "5\n",
      "199 ns ± 2.33 ns per loop (mean ± std. dev. of 7 runs, 10000000 loops each)\n",
      "197 ns ± 1.37 ns per loop (mean ± std. dev. of 7 runs, 10000000 loops each)\n",
      "211 ns ± 0.862 ns per loop (mean ± std. dev. of 7 runs, 1000000 loops each)\n"
     ]
    }
   ],
   "source": [
    "def solution(n):\n",
    "    return bin(n).count('1')\n",
    "\n",
    "print(solution(5))   # 2\n",
    "print(solution(6))   # 2\n",
    "print(solution(5000))   # 5\n",
    "\n",
    "%timeit solution(5)\n",
    "%timeit solution(6)\n",
    "%timeit solution(5000)"
   ]
  },
  {
   "cell_type": "markdown",
   "id": "969eef44",
   "metadata": {},
   "source": [
    "### 스킬트리\n",
    "\n",
    "https://programmers.co.kr/learn/courses/30/lessons/49993?language=python3"
   ]
  },
  {
   "cell_type": "code",
   "execution_count": 22,
   "id": "e1a4c50f",
   "metadata": {},
   "outputs": [
    {
     "name": "stdout",
     "output_type": "stream",
     "text": [
      "2\n",
      "1.68 µs ± 17.6 ns per loop (mean ± std. dev. of 7 runs, 1000000 loops each)\n"
     ]
    }
   ],
   "source": [
    "def solution(skill, skill_trees):\n",
    "    answer = 0\n",
    "    for skills in skill_trees:\n",
    "        skill_list = list(skill)\n",
    "        for s in skills:\n",
    "            if s in skill:\n",
    "                if s != skill_list.pop(0):\n",
    "                    break\n",
    "        else:\n",
    "            answer += 1\n",
    "    return answer\n",
    "\n",
    "print(solution(\"CBD\", [\"BACDE\", \"CBADF\", \"AECB\", \"BDA\"])) #2\n",
    "\n",
    "%timeit solution(\"CBD\", [\"BACDE\", \"CBADF\", \"AECB\", \"BDA\"])"
   ]
  },
  {
   "cell_type": "markdown",
   "id": "85f70f2c",
   "metadata": {},
   "source": [
    "## 문자열 구현"
   ]
  },
  {
   "cell_type": "markdown",
   "id": "bf4b5eae",
   "metadata": {},
   "source": [
    "### 문자열 압축\n",
    "\n",
    "https://programmers.co.kr/learn/courses/30/lessons/60057?language=python3"
   ]
  },
  {
   "cell_type": "code",
   "execution_count": 6,
   "id": "854024bb",
   "metadata": {},
   "outputs": [
    {
     "name": "stdout",
     "output_type": "stream",
     "text": [
      "515 ns ± 5.88 ns per loop (mean ± std. dev. of 7 runs, 1000000 loops each)\n"
     ]
    }
   ],
   "source": [
    "%%timeit\n",
    "\n",
    "from itertools import groupby\n",
    "\n",
    "def solution(s):\n",
    "    answer = len(s)\n",
    "    \n",
    "    for i in range(1, len(s)//2+1):\n",
    "        val = 0   # comparison value\n",
    "        charlist = []   # list of sliced characters\n",
    "        \n",
    "        for j in range(0, len(s)-i+1, i):\n",
    "            charlist.append(s[j:j+i])\n",
    "        charlist.append(s[j+i:])   # remaining characters\n",
    "        # list of characters and frequency\n",
    "        charlist = [[k,len(list(v))] for k,v in groupby(charlist)]\n",
    "        \n",
    "        for char in charlist:\n",
    "            if char[1] > 1:   # if occurs more than once\n",
    "                val += len(char[0])+len(str(char[1]))\n",
    "            else:\n",
    "                val += len(char[0])\n",
    "        answer = min(val, answer)\n",
    "        \n",
    "    return answer"
   ]
  },
  {
   "cell_type": "code",
   "execution_count": 8,
   "id": "acd89bd6",
   "metadata": {},
   "outputs": [],
   "source": [
    "# alternative answer (no package)\n",
    "\n",
    "%%timeit\n",
    "\n",
    "def solution(s):\n",
    "    answer = len(s)\n",
    "    \n",
    "    for i in range(1, len(s)//2+1):\n",
    "        count = 0\n",
    "        start, end = 0, i   # for iteration\n",
    "        \n",
    "        while end <= len(s):\n",
    "            coeff = 1   # coefficient\n",
    "            # until the substrings don't match\n",
    "            while s[start:end] == s[end:end+i]: \n",
    "                coeff += 1  # add to coefficient\n",
    "                start += i  # update start\n",
    "                end += i    # update end\n",
    "            if coeff == 1:  # if not zipped\n",
    "                count += i\n",
    "            else:   # if zipped\n",
    "                count += (i+len(str(coeff)))\n",
    "            start += i  # new start\n",
    "            end += i    # new end\n",
    "        if end > len(s):    # the last substring\n",
    "            count += (len(s)-(end-i))\n",
    "        answer = min(answer, count) # update for minimum answer\n",
    "        \n",
    "    return answer"
   ]
  },
  {
   "cell_type": "code",
   "execution_count": 5,
   "id": "f2895e31",
   "metadata": {},
   "outputs": [
    {
     "name": "stdout",
     "output_type": "stream",
     "text": [
      "7\n",
      "9\n",
      "8\n",
      "14\n",
      "17\n",
      "5\n"
     ]
    }
   ],
   "source": [
    "print(solution(\"aabbaccc\"))\n",
    "print(solution(\"ababcdcdababcdcd\"))\n",
    "print(solution(\"abcabcdede\"))\n",
    "print(solution(\"abcabcabcabcdededededede\"))\n",
    "print(solution(\"xababcdcdababcdcd\"))\n",
    "print(solution(\"xxxxxxxxxxyyy\"))\n",
    "\n",
    "# expected answer: 7, 9, 8, 14, 17, 5"
   ]
  },
  {
   "cell_type": "markdown",
   "id": "c06164c4",
   "metadata": {},
   "source": [
    "### 124 나라의 숫자\n",
    "\n",
    "https://programmers.co.kr/learn/courses/30/lessons/12899?language=python3"
   ]
  },
  {
   "cell_type": "code",
   "execution_count": 34,
   "id": "9bbd0acd",
   "metadata": {},
   "outputs": [],
   "source": [
    "def solution(n):\n",
    "    answer = ''\n",
    "    while n > 0:\n",
    "        if n%3 == 0:\n",
    "            answer += '4'\n",
    "            n = n//3-1\n",
    "        else:\n",
    "            answer += str(n%3)\n",
    "            n = n//3\n",
    "    return answer[::-1]"
   ]
  },
  {
   "cell_type": "code",
   "execution_count": 35,
   "id": "c42a2857",
   "metadata": {},
   "outputs": [
    {
     "name": "stdout",
     "output_type": "stream",
     "text": [
      "1\n",
      "2\n",
      "4\n",
      "11\n"
     ]
    }
   ],
   "source": [
    "print(solution(1))\n",
    "print(solution(2))\n",
    "print(solution(3))\n",
    "print(solution(4))\n",
    "\n",
    "# expected answer: 1, 2, 4, 11"
   ]
  },
  {
   "cell_type": "markdown",
   "id": "aa997ee2",
   "metadata": {},
   "source": [
    "### 짝지어 제거하기\n",
    "\n",
    "https://programmers.co.kr/learn/courses/30/lessons/12973?language=python3"
   ]
  },
  {
   "cell_type": "code",
   "execution_count": 57,
   "id": "b293c3ec",
   "metadata": {},
   "outputs": [],
   "source": [
    "def solution(s):\n",
    "    stack = []\n",
    "    for char in s:\n",
    "        if not stack or stack[-1] != char:\n",
    "            stack.append(char)\n",
    "        else:\n",
    "            stack.pop()\n",
    "    return 0 if stack else 1"
   ]
  },
  {
   "cell_type": "code",
   "execution_count": 58,
   "id": "218cacb7",
   "metadata": {},
   "outputs": [
    {
     "name": "stdout",
     "output_type": "stream",
     "text": [
      "1\n",
      "0\n"
     ]
    }
   ],
   "source": [
    "print(solution(\"baabaa\"))\n",
    "print(solution(\"cdcd\"))\n",
    "\n",
    "# expected answer: 1, 0"
   ]
  },
  {
   "cell_type": "markdown",
   "id": "22f1857d",
   "metadata": {},
   "source": [
    "### 괄호 변환\n",
    "\n",
    "https://programmers.co.kr/learn/courses/30/lessons/60058?language=python3"
   ]
  },
  {
   "cell_type": "code",
   "execution_count": 36,
   "id": "b0ff72e6",
   "metadata": {},
   "outputs": [
    {
     "name": "stdout",
     "output_type": "stream",
     "text": [
      "4.41 µs ± 16.6 ns per loop (mean ± std. dev. of 7 runs, 100000 loops each)\n"
     ]
    }
   ],
   "source": [
    "def check(p):\n",
    "    stack = []\n",
    "    for i in p:\n",
    "        if i == '(':\n",
    "            stack.append('(')\n",
    "        else:\n",
    "            if not stack:\n",
    "                return False\n",
    "            stack.pop()\n",
    "    return True\n",
    "\n",
    "def fix(p):\n",
    "    if p == '':\n",
    "        return p\n",
    "    p = list(p)\n",
    "    a, b = 0, 0\n",
    "    for i in range(len(p)):\n",
    "        if p[i] == '(':\n",
    "            a += 1\n",
    "        else:\n",
    "            b += 1\n",
    "        if a > 0 and a == b:\n",
    "            u = ''.join(p[:a+b])\n",
    "            v = ''.join(p[a+b:])\n",
    "            break\n",
    "    \n",
    "    if check(u):\n",
    "        return u+fix(v)\n",
    "    else:\n",
    "        ans = '(' + fix(v) + ')'\n",
    "        for j in u[1:-1]:\n",
    "            if j == '(':\n",
    "                ans += ')'\n",
    "            else:\n",
    "                ans += '('\n",
    "        return ans\n",
    "\n",
    "def solution(p):\n",
    "    if check(p):\n",
    "        return p\n",
    "    else:\n",
    "        return fix(p)\n",
    "    \n",
    "%timeit solution(\"()))((()\")"
   ]
  },
  {
   "cell_type": "code",
   "execution_count": 37,
   "id": "8b328b4c",
   "metadata": {},
   "outputs": [
    {
     "name": "stdout",
     "output_type": "stream",
     "text": [
      "(()())()\n",
      "()\n",
      "()(())()\n"
     ]
    }
   ],
   "source": [
    "print(solution(\"(()())()\"))\n",
    "print(solution(\")(\"))\n",
    "print(solution(\"()))((()\"))\n",
    "\n",
    "# expected answer: \"(()())()\", \"()\", \"()(())()\""
   ]
  },
  {
   "cell_type": "markdown",
   "id": "e7fd7ef3",
   "metadata": {},
   "source": [
    "### 뉴스 클러스터링\n",
    "\n",
    "https://programmers.co.kr/learn/courses/30/lessons/17677?language=python3"
   ]
  },
  {
   "cell_type": "code",
   "execution_count": 80,
   "id": "874aabcb",
   "metadata": {},
   "outputs": [
    {
     "name": "stdout",
     "output_type": "stream",
     "text": [
      "7.23 µs ± 56.1 ns per loop (mean ± std. dev. of 7 runs, 100000 loops each)\n"
     ]
    }
   ],
   "source": [
    "def solution(str1, str2):\n",
    "    lst1, lst2 = [], []\n",
    "    for i in range(len(str1)-1):\n",
    "        if str1[i:i+2].isalpha():\n",
    "            lst1.append(str1.lower()[i:i+2])\n",
    "    for j in range(len(str2)-1):\n",
    "        if str2[j:j+2].isalpha():\n",
    "            lst2.append(str2.lower()[j:j+2])\n",
    "\n",
    "    intr = list((Counter(lst1) & Counter(lst2)).elements())\n",
    "    union = list((Counter(lst1) | Counter(lst2)).elements())\n",
    "                        \n",
    "    return 65536 if len(union) == 0 else int(65536*(len(intr)/len(union)))\n",
    "\n",
    "%timeit solution(\"E=M*C^2\", \"e=m*c^2\")"
   ]
  },
  {
   "cell_type": "code",
   "execution_count": 81,
   "id": "5fdd828e",
   "metadata": {},
   "outputs": [
    {
     "name": "stdout",
     "output_type": "stream",
     "text": [
      "16384\n",
      "65536\n",
      "43690\n",
      "65536\n"
     ]
    }
   ],
   "source": [
    "print(solution('FRANCE', 'french'))\n",
    "print(solution('handshake', 'shake hands'))\n",
    "print(solution('aa1+aa2', 'AAAA12'))\n",
    "print(solution(\"E=M*C^2\", \"e=m*c^2\"))\n",
    "\n",
    "# expected answer: 16384, 65536, 43690, 65536"
   ]
  },
  {
   "cell_type": "markdown",
   "id": "754f9147",
   "metadata": {},
   "source": [
    "### 모음사전\n",
    "\n",
    "https://programmers.co.kr/learn/courses/30/lessons/84512?language=python3"
   ]
  },
  {
   "cell_type": "code",
   "execution_count": null,
   "id": "001cb5da",
   "metadata": {},
   "outputs": [],
   "source": [
    "def solution(word):\n",
    "    \n",
    "\n",
    "# %timeit solution(\"EIO\")"
   ]
  },
  {
   "cell_type": "code",
   "execution_count": null,
   "id": "f0907e23",
   "metadata": {},
   "outputs": [],
   "source": [
    "print(solution(\"AAAAE\"))\n",
    "print(solution(\"AAAE\"))\n",
    "print(solution(\"I\"))\n",
    "print(solution(\"EIO\"))\n",
    "\n",
    "# expected answer: 6, 10, 1563, 1189"
   ]
  },
  {
   "cell_type": "markdown",
   "id": "4054c7d5",
   "metadata": {},
   "source": [
    "# DP"
   ]
  },
  {
   "cell_type": "markdown",
   "id": "41b5c0ce",
   "metadata": {},
   "source": [
    "### 2 x n 타일링\n",
    "\n",
    "https://programmers.co.kr/learn/courses/30/lessons/12900?language=python3"
   ]
  },
  {
   "cell_type": "code",
   "execution_count": 15,
   "id": "f1177a1b",
   "metadata": {},
   "outputs": [],
   "source": [
    "# fails optimization\n",
    "\n",
    "from math import factorial as f\n",
    "\n",
    "def nCr(n,r):\n",
    "    return f(n) // f(r) // f(n-r)\n",
    "\n",
    "def old_solution(n):\n",
    "    ans = 0\n",
    "    if n % 2 == 0:\n",
    "        for i in range(1, n//2):\n",
    "            ans += nCr(i+(n-i*2),i)\n",
    "        return (ans + 2)%1000000007\n",
    "    else:\n",
    "        for i in range(1, n//2+1):\n",
    "            ans += nCr(i+(n-i*2),i)\n",
    "        return (ans + 1)%1000000007"
   ]
  },
  {
   "cell_type": "code",
   "execution_count": 20,
   "id": "b5f5cb10",
   "metadata": {},
   "outputs": [],
   "source": [
    "import sys\n",
    "sys.setrecursionlimit(60000)\n",
    "\n",
    "def solution(n):\n",
    "    mem = [-1 for i in range(60001)] # 메모이제이션\n",
    "\n",
    "    def dp(n):\n",
    "        if mem[n] != -1: return mem[n]\n",
    "        if n == 0: return 1 # 공집합도 1로본다\n",
    "        if n == 1: return 1\n",
    "        mem[n] = (dp(n-1) + dp(n-2)) % 1000000007\n",
    "        return mem[n]\n",
    "\n",
    "    return dp(n)"
   ]
  },
  {
   "cell_type": "code",
   "execution_count": 21,
   "id": "b15a6ac6",
   "metadata": {},
   "outputs": [
    {
     "name": "stdout",
     "output_type": "stream",
     "text": [
      "24223428\n",
      "24223428\n"
     ]
    }
   ],
   "source": [
    "print(old_solution(10000))\n",
    "print(solution(10000))"
   ]
  },
  {
   "cell_type": "code",
   "execution_count": 22,
   "id": "1d3becf6",
   "metadata": {},
   "outputs": [
    {
     "name": "stdout",
     "output_type": "stream",
     "text": [
      "23.6 s ± 182 ms per loop (mean ± std. dev. of 7 runs, 1 loop each)\n"
     ]
    }
   ],
   "source": [
    "%timeit old_solution(10000)"
   ]
  },
  {
   "cell_type": "code",
   "execution_count": 23,
   "id": "ce632533",
   "metadata": {},
   "outputs": [
    {
     "name": "stdout",
     "output_type": "stream",
     "text": [
      "5.7 ms ± 131 µs per loop (mean ± std. dev. of 7 runs, 100 loops each)\n"
     ]
    }
   ],
   "source": [
    "%timeit solution(10000)"
   ]
  },
  {
   "cell_type": "markdown",
   "id": "b8cc7c6c",
   "metadata": {},
   "source": [
    "### 3 x n 타일링\n",
    "\n",
    "https://programmers.co.kr/learn/courses/30/lessons/12902?language=python3"
   ]
  },
  {
   "cell_type": "code",
   "execution_count": 39,
   "id": "cb68c0d7",
   "metadata": {},
   "outputs": [],
   "source": [
    "import sys\n",
    "sys.setrecursionlimit(5000)\n",
    "\n",
    "def solution(n):\n",
    "    mem = [0 for i in range(2501)] # 메모이제이션\n",
    "    mem[0] = 1\n",
    "    mem[1] = 3\n",
    "\n",
    "    def dp(n):\n",
    "        if mem[n] != 0: return mem[n]\n",
    "        mem[n] = (3*dp(n-1) + 2*(sum(mem[:n-1]))) % 1000000007\n",
    "        return mem[n]\n",
    "\n",
    "    return dp(n//2)"
   ]
  },
  {
   "cell_type": "markdown",
   "id": "dc4525a9",
   "metadata": {},
   "source": [
    "### 멀리 뛰기\n",
    "\n",
    "https://programmers.co.kr/learn/courses/30/lessons/12914?language=python3"
   ]
  },
  {
   "cell_type": "code",
   "execution_count": 45,
   "id": "ee6793e1",
   "metadata": {},
   "outputs": [],
   "source": [
    "import sys\n",
    "sys.setrecursionlimit(2000)\n",
    "\n",
    "def solution(n):\n",
    "    mem = [-1 for i in range(2001)]\n",
    "\n",
    "    def dp(n):\n",
    "        if mem[n] != -1: return mem[n]\n",
    "        if n == 0: return 1\n",
    "        if n == 1: return 1\n",
    "        mem[n] = (dp(n-1) + dp(n-2)) % 1234567\n",
    "        return mem[n]\n",
    "\n",
    "    return dp(n)"
   ]
  },
  {
   "cell_type": "markdown",
   "id": "86050c0a",
   "metadata": {},
   "source": [
    "### 하노이의 탑\n",
    "\n",
    "https://programmers.co.kr/learn/courses/30/lessons/12946?language=python3"
   ]
  },
  {
   "cell_type": "code",
   "execution_count": 1,
   "id": "363847fb",
   "metadata": {
    "ExecuteTime": {
     "end_time": "2022-06-13T11:43:03.748047Z",
     "start_time": "2022-06-13T11:43:03.725413Z"
    }
   },
   "outputs": [],
   "source": [
    "def solution(n):\n",
    "    answer = []\n",
    "    \n",
    "    def hanoi(n, a, c, b):\n",
    "        if n == 1:\n",
    "            answer.append([a, c])\n",
    "            return True\n",
    "        else:\n",
    "            hanoi(n-1, a, b, c)\n",
    "            answer.append([a, c])\n",
    "            hanoi(n-1, b, c, a)\n",
    "            \n",
    "    hanoi(n, 1, 3, 2)\n",
    "    return answer"
   ]
  },
  {
   "cell_type": "markdown",
   "id": "3b85cf2c",
   "metadata": {},
   "source": [
    "### 줄 서는 방법\n",
    "\n",
    "https://programmers.co.kr/learn/courses/30/lessons/12936?language=python3"
   ]
  },
  {
   "cell_type": "code",
   "execution_count": 2,
   "id": "3e7d160a",
   "metadata": {
    "ExecuteTime": {
     "end_time": "2022-06-13T11:43:50.388737Z",
     "start_time": "2022-06-13T11:43:50.375995Z"
    }
   },
   "outputs": [],
   "source": [
    "# fails optimization\n",
    "\n",
    "from itertools import permutations\n",
    "\n",
    "def solution(n, k):\n",
    "    p = [permut for permut in permutations([x for x in range(1, n+1)], n)]\n",
    "    \n",
    "    return list(p[k-1])"
   ]
  },
  {
   "cell_type": "code",
   "execution_count": 6,
   "id": "b6f275ee",
   "metadata": {
    "ExecuteTime": {
     "end_time": "2022-06-13T12:25:33.328198Z",
     "start_time": "2022-06-13T12:25:33.314663Z"
    }
   },
   "outputs": [],
   "source": [
    "# passes optimization\n",
    "\n",
    "from math import factorial as f\n",
    "from math import ceil\n",
    "\n",
    "def solution(n, k):\n",
    "    ans = []\n",
    "    stack = [i for i in range(1, n+1)]\n",
    "    \n",
    "    def rec(a, b):\n",
    "        if a == 1:\n",
    "            ans.append(stack.pop())\n",
    "            return True\n",
    "        else:\n",
    "            ans.append(stack.pop(ceil(b/f(a-1))-1))\n",
    "            b -= int(b/f(a-1))*f(a-1)\n",
    "            a -= 1\n",
    "            rec(a, b)\n",
    "    \n",
    "    rec(n, k)\n",
    "\n",
    "    return ans"
   ]
  },
  {
   "cell_type": "markdown",
   "id": "bcbe5d5e",
   "metadata": {},
   "source": [
    "### N-Queens\n",
    "\n",
    "https://programmers.co.kr/learn/courses/30/lessons/12952?language=python3"
   ]
  },
  {
   "cell_type": "code",
   "execution_count": 7,
   "id": "875255c9",
   "metadata": {
    "ExecuteTime": {
     "end_time": "2022-06-13T12:51:54.654168Z",
     "start_time": "2022-06-13T12:51:54.640297Z"
    }
   },
   "outputs": [],
   "source": [
    "def dfs(queen, n, row):\n",
    "    count = 0\n",
    "\n",
    "    if n == row:\n",
    "        return 1\n",
    "\n",
    "    # 가로로 한번만 진행\n",
    "    for col in range(n):\n",
    "        queen[row] = col\n",
    "\n",
    "        # for-else구문\n",
    "        for x in range(row):\n",
    "            # 세로로 겹치면 안됨\n",
    "            if queen[x] == queen[row]: \n",
    "                break\n",
    "\n",
    "            # 대각선으로 겹치면 안됨\n",
    "            if abs(queen[x]-queen[row]) == (row-x):\n",
    "                break\n",
    "        else:\n",
    "            count += dfs(queen, n, row+1)\n",
    "\n",
    "    return count\n",
    "\n",
    "def solution(n):\n",
    "    queen = [0]*n\n",
    "    return dfs(queen, n, 0)"
   ]
  },
  {
   "cell_type": "code",
   "execution_count": null,
   "id": "c5cabddf",
   "metadata": {},
   "outputs": [],
   "source": []
  }
 ],
 "metadata": {
  "kernelspec": {
   "display_name": "Python 3",
   "language": "python",
   "name": "python3"
  },
  "language_info": {
   "codemirror_mode": {
    "name": "ipython",
    "version": 3
   },
   "file_extension": ".py",
   "mimetype": "text/x-python",
   "name": "python",
   "nbconvert_exporter": "python",
   "pygments_lexer": "ipython3",
   "version": "3.8.8"
  }
 },
 "nbformat": 4,
 "nbformat_minor": 5
}

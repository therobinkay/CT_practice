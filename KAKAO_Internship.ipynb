{
 "cells": [
  {
   "cell_type": "markdown",
   "id": "55293511",
   "metadata": {},
   "source": [
    "# 2019 Internship\n",
    "\n",
    "## 1. 크레인 인형뽑기 게임\n",
    "\n",
    "https://programmers.co.kr/learn/courses/30/lessons/64061"
   ]
  },
  {
   "cell_type": "code",
   "execution_count": 62,
   "id": "57a11adf",
   "metadata": {},
   "outputs": [],
   "source": [
    "def solution(board, moves):\n",
    "    ans = 0\n",
    "    moves = [x-1 for x in moves]\n",
    "    stack = [0]\n",
    "    for move in moves:\n",
    "        for row in range(len(board)):\n",
    "            if board[row][move] != 0:\n",
    "                if stack[-1] == board[row][move]:\n",
    "                    stack.pop()\n",
    "                    ans += 2\n",
    "                else:\n",
    "                    stack.append(board[row][move])\n",
    "                board[row][move] = 0\n",
    "                break\n",
    "    return ans"
   ]
  },
  {
   "cell_type": "code",
   "execution_count": 63,
   "id": "1d9595bd",
   "metadata": {},
   "outputs": [
    {
     "name": "stdout",
     "output_type": "stream",
     "text": [
      "4\n",
      "4.98 µs ± 26.5 ns per loop (mean ± std. dev. of 7 runs, 100000 loops each)\n"
     ]
    }
   ],
   "source": [
    "print(solution([[0,0,0,0,0],[0,0,1,0,3],[0,2,5,0,1],[4,2,4,4,2],[3,5,1,3,1]], [1,5,3,5,1,2,1,4])) # 4\n",
    "\n",
    "%timeit solution([[0,0,0,0,0],[0,0,1,0,3],[0,2,5,0,1],[4,2,4,4,2],[3,5,1,3,1]], [1,5,3,5,1,2,1,4])"
   ]
  },
  {
   "cell_type": "markdown",
   "id": "75ef450d",
   "metadata": {},
   "source": [
    "## 2. 튜플\n",
    "\n",
    "https://programmers.co.kr/learn/courses/30/lessons/64065?language=python3"
   ]
  },
  {
   "cell_type": "code",
   "execution_count": 135,
   "id": "7b95e89c",
   "metadata": {},
   "outputs": [],
   "source": [
    "from collections import Counter\n",
    "\n",
    "def solution(s):\n",
    "    count = []\n",
    "    s = s[1:-1]\n",
    "    words = [x for x in s.split('},{')]\n",
    "    words[0] = words[0][1:]\n",
    "    words[-1] = words[-1][:-1]\n",
    "    for word in words:\n",
    "        for x in word.split(','):\n",
    "            count.append(int(x))\n",
    "    count = Counter(count).most_common()\n",
    "    return [x[0] for x in count]"
   ]
  },
  {
   "cell_type": "code",
   "execution_count": 136,
   "id": "47b5f4b3",
   "metadata": {},
   "outputs": [
    {
     "name": "stdout",
     "output_type": "stream",
     "text": [
      "[2, 1, 3, 4]\n",
      "[2, 1, 3, 4]\n",
      "[111, 20]\n",
      "[123]\n",
      "[3, 2, 4, 1]\n",
      "4.47 µs ± 40.3 ns per loop (mean ± std. dev. of 7 runs, 100000 loops each)\n"
     ]
    }
   ],
   "source": [
    "print(solution(\"{{2},{2,1},{2,1,3},{2,1,3,4}}\")) # [2, 1, 3, 4]\n",
    "print(solution(\"{{1,2,3},{2,1},{1,2,4,3},{2}}\")) # [2, 1, 3, 4]\n",
    "print(solution(\"{{20,111},{111}}\")) # [111, 20]\n",
    "print(solution(\"{{123}}\")) # [123]\n",
    "print(solution(\"{{4,2,3},{3},{2,3,4,1},{2,3}}\")) # [3, 2, 4, 1]\n",
    "\n",
    "%timeit solution(\"{{4,2,3},{3},{2,3,4,1},{2,3}}\")"
   ]
  },
  {
   "cell_type": "code",
   "execution_count": 137,
   "id": "4cdff46a",
   "metadata": {},
   "outputs": [
    {
     "name": "stdout",
     "output_type": "stream",
     "text": [
      "4.62 µs ± 48.5 ns per loop (mean ± std. dev. of 7 runs, 100000 loops each)\n"
     ]
    }
   ],
   "source": [
    "import re\n",
    "from collections import Counter\n",
    "\n",
    "def solution(s):\n",
    "    # '\\d+' corresponds to 1 or more digits\n",
    "    s = Counter(re.findall('\\d+', s))   # frequency of each element\n",
    "    return list(map(int, [k for k, v in sorted(s.items(), key=lambda x: x[1], reverse=True)]))\n",
    "\n",
    "%timeit solution(\"{{4,2,3},{3},{2,3,4,1},{2,3}}\")"
   ]
  },
  {
   "cell_type": "markdown",
   "id": "1393a7bf",
   "metadata": {},
   "source": [
    "## 3. 불량 사용자\n",
    "\n",
    "https://programmers.co.kr/learn/courses/30/lessons/64064?language=python3"
   ]
  },
  {
   "cell_type": "code",
   "execution_count": 408,
   "id": "c8072c2e",
   "metadata": {},
   "outputs": [],
   "source": [
    "from itertools import product, groupby\n",
    "from collections import Counter\n",
    "from math import comb\n",
    "\n",
    "def match(str1, str2):\n",
    "    if len(str1) != len(str2):\n",
    "        return False\n",
    "    for i in range(len(str1)):\n",
    "        if str1[i] != str2[i] and str1[i] != '*':\n",
    "            return False\n",
    "    return True\n",
    "\n",
    "def solution(user_id, banned_id):\n",
    "    answer, n = 0, 1\n",
    "    ban_list = [[] * x for x in range(len(banned_id))]\n",
    "    for i in range(len(banned_id)):\n",
    "        for user in user_id:\n",
    "            if match(banned_id[i], user):\n",
    "                ban_list[i].append(user)\n",
    "    \n",
    "    for i in range(len(ban_list)):\n",
    "        ban_list[i] = tuple(ban_list[i])\n",
    "    \n",
    "    counter = Counter(ban for ban in ban_list)\n",
    "    \n",
    "    # 효율성: 만약 1회 이상 중복되는 banned_id가 있다면 조합 수를 n에 곱하기\n",
    "    for k, c in counter.items():\n",
    "        if c > 1:\n",
    "            n *= comb(len(k), c)\n",
    "    counter = [k for k, c in counter.items() if c == 1]\n",
    "    \n",
    "    combos = list(product(*counter))\n",
    "    \n",
    "    for i in range(len(combos)):\n",
    "        combos[i] = tuple(sorted(combos[i]))\n",
    "    combos = set(combos)\n",
    "            \n",
    "    for combo in combos:\n",
    "        if len(set(combo)) == len(combo):\n",
    "            answer += 1\n",
    "    \n",
    "    return answer*n"
   ]
  },
  {
   "cell_type": "code",
   "execution_count": 409,
   "id": "98fb704c",
   "metadata": {},
   "outputs": [
    {
     "name": "stdout",
     "output_type": "stream",
     "text": [
      "2\n",
      "2\n",
      "3\n",
      "1\n"
     ]
    }
   ],
   "source": [
    "print(solution([\"frodo\", \"fradi\", \"crodo\", \"abc123\", \"frodoc\"], [\"fr*d*\", \"abc1**\"])) # 2\n",
    "print(solution([\"frodo\", \"fradi\", \"crodo\", \"abc123\", \"frodoc\"], [\"*rodo\", \"*rodo\", \"******\"])) # 2\n",
    "print(solution([\"frodo\", \"fradi\", \"crodo\", \"abc123\", \"frodoc\"], [\"fr*d*\", \"*rodo\", \"******\", \"******\"])) # 3\n",
    "\n",
    "print(solution(['aaaaaaaa', 'bbbbbbbb', 'cccccccc', 'dddddddd', 'eeeeeeee', 'ffffffff', 'gggggggg', 'hhhhhhhh'],\n",
    "               ['********', '********', '********', '********', '********', '********', '********', '********']))\n",
    "# 1\n",
    "\n",
    "# print(solution(['aaaaaaaa', 'bbbbbbbb', 'cccccccc', 'dddddddd', 'eeeeeeee', 'ffffffff', 'gggggggg', 'hhhhhhhh'],\n",
    "#                ['********', '********', '********', '********', '********', '********', '********']))"
   ]
  },
  {
   "cell_type": "markdown",
   "id": "ea2028e1",
   "metadata": {},
   "source": [
    "## 4. 징검다리 건너기\n",
    "\n",
    "https://programmers.co.kr/learn/courses/30/lessons/64062?language=python3"
   ]
  },
  {
   "cell_type": "code",
   "execution_count": null,
   "id": "eeafcf88",
   "metadata": {},
   "outputs": [],
   "source": []
  },
  {
   "cell_type": "markdown",
   "id": "4fb0680b",
   "metadata": {},
   "source": [
    "# 2020 Internship\n",
    "\n",
    "## 1. 키패드 누르기\n",
    "\n",
    "https://programmers.co.kr/learn/courses/30/lessons/67256"
   ]
  },
  {
   "cell_type": "code",
   "execution_count": 52,
   "id": "180495b4",
   "metadata": {},
   "outputs": [],
   "source": [
    "def solution(numbers, hand):\n",
    "    ans = ''\n",
    "    lefts = [1, 4, 7]\n",
    "    rights = [3, 6, 9]\n",
    "    mids = [2, 5, 8, 0]\n",
    "    l = [3, 0]\n",
    "    r = [3, 2]\n",
    "    for num in numbers:\n",
    "        if num in lefts:\n",
    "            ans += 'L'\n",
    "            l = [lefts.index(num), 0]\n",
    "        elif num in rights:\n",
    "            ans += 'R'\n",
    "            r = [rights.index(num), 2]\n",
    "        else:\n",
    "            idx = mids.index(num)\n",
    "            if abs(idx-l[0])+abs(1-l[1]) < abs(idx-r[0])+abs(1-r[1]):\n",
    "                ans += 'L'\n",
    "                l = [idx, 1]\n",
    "            elif abs(idx-l[0])+abs(1-l[1]) > abs(idx-r[0])+abs(1-r[1]):\n",
    "                ans += 'R'\n",
    "                r = [idx, 1]\n",
    "            else:\n",
    "                if hand == 'left':\n",
    "                    ans += 'L'\n",
    "                    l = [idx, 1]\n",
    "                else:\n",
    "                    ans += 'R'\n",
    "                    r = [idx, 1]\n",
    "    return ans"
   ]
  },
  {
   "cell_type": "code",
   "execution_count": 53,
   "id": "998d157e",
   "metadata": {},
   "outputs": [
    {
     "name": "stdout",
     "output_type": "stream",
     "text": [
      "LRLLLRLLRRL\n",
      "LRLLRRLLLRR\n",
      "LLRLLRLLRL\n",
      "4.11 µs ± 28.7 ns per loop (mean ± std. dev. of 7 runs, 100000 loops each)\n"
     ]
    }
   ],
   "source": [
    "print(solution([1, 3, 4, 5, 8, 2, 1, 4, 5, 9, 5], \"right\")) # \"LRLLLRLLRRL\"\n",
    "print(solution([7, 0, 8, 2, 8, 3, 1, 5, 7, 6, 2], \"left\")) # \"LRLLRRLLLRR\"\n",
    "print(solution([1, 2, 3, 4, 5, 6, 7, 8, 9, 0], \"right\")) # \"LLRLLRLLRL\"\n",
    "\n",
    "%timeit solution([1, 3, 4, 5, 8, 2, 1, 4, 5, 9, 5], \"right\")"
   ]
  },
  {
   "cell_type": "markdown",
   "id": "fe4ea920",
   "metadata": {},
   "source": [
    "## 2. 수식 최대화\n",
    "\n",
    "https://programmers.co.kr/learn/courses/30/lessons/67257"
   ]
  },
  {
   "cell_type": "code",
   "execution_count": 186,
   "id": "76900376",
   "metadata": {},
   "outputs": [],
   "source": [
    "from itertools import permutations\n",
    "\n",
    "def solution(expression):\n",
    "    ans = 0\n",
    "    ops = ['+', '-', '*']\n",
    "    perms = [perm for perm in permutations(ops, 3)]\n",
    "    \n",
    "    for perm in perms:\n",
    "        last = perm[-1]\n",
    "        seco = perm[1]\n",
    "        equation = []\n",
    "        for i in expression.split(last):\n",
    "            tmp = [f'({j})' for j in i.split(seco)]\n",
    "            equation.append(f'({seco.join(tmp)})')\n",
    "        equation = last.join(equation)\n",
    "        ans = max(ans, abs(eval(equation)))\n",
    "    return ans"
   ]
  },
  {
   "cell_type": "code",
   "execution_count": 187,
   "id": "16ddc0a8",
   "metadata": {},
   "outputs": [
    {
     "name": "stdout",
     "output_type": "stream",
     "text": [
      "60420\n",
      "300\n",
      "67.9 µs ± 613 ns per loop (mean ± std. dev. of 7 runs, 10000 loops each)\n"
     ]
    }
   ],
   "source": [
    "print(solution(\"100-200*300-500+20\")) # 60420\n",
    "print(solution(\"50*6-3*2\")) # 300\n",
    "\n",
    "%timeit solution(\"100-200*300-500+20\")"
   ]
  },
  {
   "cell_type": "markdown",
   "id": "b61eecc2",
   "metadata": {},
   "source": [
    "## 3. 보석 쇼핑\n",
    "\n",
    "https://programmers.co.kr/learn/courses/30/lessons/67258?language=python3"
   ]
  },
  {
   "cell_type": "code",
   "execution_count": 546,
   "id": "56e5d7b9",
   "metadata": {},
   "outputs": [
    {
     "name": "stdout",
     "output_type": "stream",
     "text": [
      "26.6 µs ± 197 ns per loop (mean ± std. dev. of 7 runs, 10000 loops each)\n"
     ]
    }
   ],
   "source": [
    "# passes accuracy, fails optimality (efficiency)\n",
    "\n",
    "from collections import Counter\n",
    "\n",
    "def solution(gems):\n",
    "    uniq = list(set(gems))\n",
    "    \n",
    "    gem_counts = Counter(gems)\n",
    "    uniq_counts = Counter(uniq)\n",
    "\n",
    "    min_subset = [0, 0]\n",
    "\n",
    "    start = 0\n",
    "    end = 0\n",
    "    sub_counts = Counter()\n",
    "\n",
    "    while True:\n",
    "        # while subsequence_counts doesn't have enough elements to cancel out every\n",
    "        # element in search_counts, take the next element from search\n",
    "        while uniq_counts - sub_counts:\n",
    "            if end == len(gems):  # if we've reached the end of the list, we're done\n",
    "                if gems[min_subset[0]-1] in Counter(gems[min_subset[0]:min_subset[1]]):\n",
    "                    min_subset[0] += 1\n",
    "                return min_subset\n",
    "\n",
    "            sub_counts[gems[end]] += 1\n",
    "            end += 1\n",
    "\n",
    "        # while subsequence_counts has enough elements to cover search_counts, keep\n",
    "        # removing from the start of the sequence\n",
    "        while not uniq_counts - sub_counts:\n",
    "            if min_subset == [0, 0] or (end - start) < min_subset[1] - min_subset[0]:\n",
    "                min_subset = [start+1, end]\n",
    "            sub_counts[gems[start]] -= 1\n",
    "            start += 1\n",
    "            \n",
    "%timeit solution([\"DIA\", \"RUBY\", \"RUBY\", \"DIA\", \"DIA\", \"EMERALD\", \"SAPPHIRE\", \"DIA\"])"
   ]
  },
  {
   "cell_type": "code",
   "execution_count": 547,
   "id": "6b315ed1",
   "metadata": {},
   "outputs": [
    {
     "name": "stdout",
     "output_type": "stream",
     "text": [
      "5.78 µs ± 71.8 ns per loop (mean ± std. dev. of 7 runs, 100000 loops each)\n"
     ]
    }
   ],
   "source": [
    "# slightly better optimality, still fails\n",
    "\n",
    "def solution(gems):\n",
    "    n, uniq = len(gems), len(set(gems))\n",
    "    tmp = set()\n",
    "    start, end = 0, 0\n",
    "    answer = [1, n]\n",
    "    \n",
    "    # while pointers did not reach the end of the list\n",
    "    # and our current answer is not the optimal (minimal) length yet\n",
    "    while start < n and end <= n and answer[1] - answer[0] + 1 != uniq:\n",
    "        # if our tmp does not have all the elements yet\n",
    "        if len(tmp) < uniq:\n",
    "            # include the right-wise element and update tmp\n",
    "            end += 1\n",
    "            tmp = set(gems[start:end])\n",
    "        # if our tmp has all the elements\n",
    "        else:\n",
    "            # if our current answer is longer than our current find\n",
    "            if len(tmp) == uniq and answer[1] - answer[0] + 1 > end - start:\n",
    "                # update answer\n",
    "                answer = [start+1, end]\n",
    "            # exclude the left-wise element and update tmp\n",
    "            start += 1\n",
    "            tmp = set(gems[start:end])    \n",
    "    return answer\n",
    "\n",
    "%timeit solution([\"DIA\", \"RUBY\", \"RUBY\", \"DIA\", \"DIA\", \"EMERALD\", \"SAPPHIRE\", \"DIA\"])"
   ]
  },
  {
   "cell_type": "code",
   "execution_count": 556,
   "id": "af02526b",
   "metadata": {},
   "outputs": [
    {
     "name": "stdout",
     "output_type": "stream",
     "text": [
      "4.85 µs ± 76.6 ns per loop (mean ± std. dev. of 7 runs, 100000 loops each)\n"
     ]
    }
   ],
   "source": [
    "# passes optimality\n",
    "\n",
    "from collections import Counter\n",
    "\n",
    "def solution(gems):\n",
    "    uniq = len(set(gems))\n",
    "    ans = []\n",
    "\n",
    "    left = 0\n",
    "    tmp = Counter()\n",
    "    \n",
    "    for right in range(len(gems)):\n",
    "        # include right-most gem\n",
    "        tmp[gems[right]] += 1\n",
    "        right += 1 # this only applies when while loop is applied\n",
    "        \n",
    "        # while our current list contains all elements\n",
    "        while len(tmp) == uniq:\n",
    "            # get rid of the left-most gem\n",
    "            tmp[gems[left]] -= 1\n",
    "            \n",
    "            # if the left-most gem was the only unique gem\n",
    "            if tmp[gems[left]] == 0:\n",
    "                # remove the unique element from our tmp dict\n",
    "                del tmp[gems[left]]\n",
    "            # update our start cursor and answer candidates list\n",
    "            left += 1\n",
    "            ans.append([left, right])\n",
    "    \n",
    "    # get the smallest left-index among the shortest length\n",
    "    return sorted(ans, key = lambda x: (x[1]-x[0], x[0]))[0]\n",
    "\n",
    "%timeit solution([\"DIA\", \"RUBY\", \"RUBY\", \"DIA\", \"DIA\", \"EMERALD\", \"SAPPHIRE\", \"DIA\"])"
   ]
  },
  {
   "cell_type": "code",
   "execution_count": 555,
   "id": "b9368c6a",
   "metadata": {},
   "outputs": [
    {
     "name": "stdout",
     "output_type": "stream",
     "text": [
      "[3, 7]\n",
      "[1, 3]\n",
      "[1, 1]\n",
      "[1, 5]\n",
      "[3, 4]\n",
      "[1, 1]\n",
      "[8, 10]\n"
     ]
    }
   ],
   "source": [
    "print(solution([\"DIA\", \"RUBY\", \"RUBY\", \"DIA\", \"DIA\", \"EMERALD\", \"SAPPHIRE\", \"DIA\"])) # [3,7]\n",
    "print(solution([\"AA\", \"AB\", \"AC\", \"AA\", \"AC\"])) # [1,3]\n",
    "print(solution([\"XYZ\", \"XYZ\", \"XYZ\"])) # [1,1]\n",
    "print(solution([\"ZZZ\", \"YYY\", \"NNNN\", \"YYY\", \"BBB\"])) # [1,5]\n",
    "print(solution([\"A\", \"A\", \"A\", \"B\", \"B\"])) # [3,4]\n",
    "print(solution([\"A\"])) # [1,1]\n",
    "print(solution([\"A\",\"B\",\"B\",\"B\",\"B\",\"B\",\"B\",\"C\",\"B\",\"A\"])) # [8,10]"
   ]
  },
  {
   "cell_type": "markdown",
   "id": "72240838",
   "metadata": {},
   "source": [
    "## 4. 경주로 건설\n",
    "\n",
    "https://programmers.co.kr/learn/courses/30/lessons/67259?language=python3"
   ]
  },
  {
   "cell_type": "code",
   "execution_count": null,
   "id": "eadc81e3",
   "metadata": {},
   "outputs": [],
   "source": []
  },
  {
   "cell_type": "markdown",
   "id": "1a262cd8",
   "metadata": {},
   "source": [
    "# 2021 Internship\n",
    "\n",
    "## 1. 숫자 문자열과 영단어\n",
    "\n",
    "https://programmers.co.kr/learn/courses/30/lessons/81301?language=python3"
   ]
  },
  {
   "cell_type": "code",
   "execution_count": 40,
   "id": "be5d8780",
   "metadata": {},
   "outputs": [],
   "source": [
    "import re\n",
    "\n",
    "def wordtonum(x):\n",
    "    words = ['zero', 'one', 'two', 'three', 'four', 'five', 'six', 'seven', 'eight', 'nine']\n",
    "    if x in words:\n",
    "        return str(words.index(x))\n",
    "    else:\n",
    "        for i in range(1, len(x)):\n",
    "            if x[:i] in words:\n",
    "                return ''.join([str(words.index(x[:i])), wordtonum(x[i:])])\n",
    "\n",
    "def solution(s):\n",
    "    try:\n",
    "        return int(s)\n",
    "    except ValueError:\n",
    "        ans = ''\n",
    "        res = re.findall('(\\d+|[A-Za-z]+)', s)\n",
    "        for c in res:\n",
    "            if c.isnumeric():\n",
    "                ans += str(c)\n",
    "            else:\n",
    "                ans += wordtonum(c)\n",
    "        return int(ans)"
   ]
  },
  {
   "cell_type": "code",
   "execution_count": 41,
   "id": "1ef5b7ac",
   "metadata": {},
   "outputs": [
    {
     "name": "stdout",
     "output_type": "stream",
     "text": [
      "1478\n",
      "234567\n",
      "234567\n",
      "123\n",
      "5.09 µs ± 39 ns per loop (mean ± std. dev. of 7 runs, 100000 loops each)\n"
     ]
    }
   ],
   "source": [
    "print(solution(\"one4seveneight\")) # 1478\n",
    "print(solution(\"23four5six7\")) #234567\n",
    "print(solution(\"2three45sixseven\")) #234567\n",
    "print(solution(\"123\")) # 123\n",
    "\n",
    "%timeit solution(\"2three45sixseven\")"
   ]
  },
  {
   "cell_type": "markdown",
   "id": "2b6074a7",
   "metadata": {},
   "source": [
    "## 2. 거리두기 확인하기\n",
    "\n",
    "https://programmers.co.kr/learn/courses/30/lessons/81302?language=python3"
   ]
  },
  {
   "cell_type": "code",
   "execution_count": 451,
   "id": "da9c1ea0",
   "metadata": {},
   "outputs": [],
   "source": [
    "from collections import deque\n",
    "\n",
    "def bfs(x1,y1,x2,y2,graph):\n",
    "    dx = [-1, 1, 0, 0]\n",
    "    dy = [0, 0, -1, 1]\n",
    "    queue = deque()\n",
    "    queue.append((x1,y1))\n",
    "    graph[x1][y1] = 0\n",
    "    while queue:\n",
    "        x1, y1 = queue.popleft()\n",
    "        for i in range(4):\n",
    "            nx = x1 + dx[i]\n",
    "            ny = y1 + dy[i]\n",
    "            if nx < 0 or ny < 0 or nx >= 5 or ny >= 5:\n",
    "                continue\n",
    "            if graph[nx][ny] == 'X':\n",
    "                continue\n",
    "            if graph[nx][ny] == 'O':\n",
    "                graph[nx][ny] = graph[x1][y1]+1\n",
    "                queue.append((nx,ny))\n",
    "    return graph[x2][y2]\n",
    "\n",
    "def solution(places):\n",
    "    answer = []\n",
    "    \n",
    "    for place in places:\n",
    "        ps = []\n",
    "        for i in range(5):\n",
    "            place[i] = list(place[i])\n",
    "            for j in range(5):\n",
    "                if place[i][j] == 'P':\n",
    "                    ps.append((i, j))\n",
    "                    place[i][j] = 'O'\n",
    "        \n",
    "        if ps:          \n",
    "            tmp = []\n",
    "            for i in range(len(ps)):\n",
    "                for case in ps[i+1:]:\n",
    "                    tmp.append(bfs(ps[i][0], ps[i][1], case[0], case[1], place))\n",
    "            tmp = [e for e in tmp if isinstance(e, int)]\n",
    "            if not tmp:\n",
    "                answer.append(1)\n",
    "                break\n",
    "\n",
    "            if min(tmp) <= 2:\n",
    "                answer.append(0)\n",
    "            else:\n",
    "                answer.append(1)\n",
    "        else:\n",
    "            answer.append(1)\n",
    "    \n",
    "    return answer"
   ]
  },
  {
   "cell_type": "code",
   "execution_count": 455,
   "id": "6a42eb2e",
   "metadata": {},
   "outputs": [
    {
     "name": "stdout",
     "output_type": "stream",
     "text": [
      "[1, 0, 1, 1, 1]\n",
      "275 µs ± 2.5 µs per loop (mean ± std. dev. of 7 runs, 1000 loops each)\n"
     ]
    }
   ],
   "source": [
    "print(solution([[\"POOOP\", \"OXXOX\", \"OPXPX\", \"OOXOX\", \"POXXP\"],\n",
    "                [\"POOPX\", \"OXPXP\", \"PXXXO\", \"OXXXO\", \"OOOPP\"],\n",
    "                [\"PXOPX\", \"OXOXP\", \"OXPOX\", \"OXXOP\", \"PXPOX\"],\n",
    "                [\"OOOXX\", \"XOOOX\", \"OOOXX\", \"OXOOX\", \"OOOOO\"],\n",
    "                [\"PXPXP\", \"XPXPX\", \"PXPXP\", \"XPXPX\", \"PXPXP\"]])) # [1, 0, 1, 1, 1]\n",
    "\n",
    "%timeit solution([[\"POOOP\", \"OXXOX\", \"OPXPX\", \"OOXOX\", \"POXXP\"],[\"POOPX\", \"OXPXP\", \"PXXXO\", \"OXXXO\", \"OOOPP\"],[\"PXOPX\", \"OXOXP\", \"OXPOX\", \"OXXOP\", \"PXPOX\"],[\"OOOXX\", \"XOOOX\", \"OOOXX\", \"OXOOX\", \"OOOOO\"],[\"PXPXP\", \"XPXPX\", \"PXPXP\", \"XPXPX\", \"PXPXP\"]])"
   ]
  },
  {
   "cell_type": "code",
   "execution_count": 456,
   "id": "6476b19d",
   "metadata": {},
   "outputs": [
    {
     "name": "stdout",
     "output_type": "stream",
     "text": [
      "178 µs ± 873 ns per loop (mean ± std. dev. of 7 runs, 10000 loops each)\n"
     ]
    }
   ],
   "source": [
    "from collections import deque\n",
    "\n",
    "def bfs(graph):\n",
    "    ps = []\n",
    "    \n",
    "    for i in range(5): # P의 좌표 전부 구하기\n",
    "        for j in range(5):\n",
    "            if graph[i][j] == 'P':\n",
    "                ps.append([i, j])\n",
    "    \n",
    "    for p in ps:\n",
    "        queue = deque([p])  # 큐에 초기값 입력\n",
    "        visited = [[0]*5 for i in range(5)]   # 방문 처리 리스트\n",
    "        distance = [[0]*5 for i in range(5)]  # 경로 길이 리스트\n",
    "        visited[p[0]][p[1]] = 1\n",
    "        \n",
    "        while queue:\n",
    "            x, y = queue.popleft()\n",
    "        \n",
    "            dx = [-1, 1, 0, 0]  # 상하\n",
    "            dy = [0, 0, -1, 1]  # 좌우\n",
    "\n",
    "            for i in range(4):\n",
    "                nx = x + dx[i]\n",
    "                ny = y + dy[i]\n",
    "                \n",
    "                # 바운더리 내에 있고, 방문하지 않았을 시\n",
    "                if 0 <= nx < 5 and 0 <= ny < 5 and visited[nx][ny] == 0:\n",
    "                    # 'O'일 경우에만\n",
    "                    if graph[nx][ny] == 'O':\n",
    "                        queue.append([nx, ny])\n",
    "                        # 방문 처리\n",
    "                        visited[nx][ny] = 1\n",
    "                        # 거리 업데이트\n",
    "                        distance[nx][ny] = distance[x][y] + 1\n",
    "                    # 다른 P에 다다랐을 때 거리가 2 이하일 경우 0 반환\n",
    "                    # 1인 이유는 P 사이 간격의 갯수를 세는 것이기 때문\n",
    "                    if graph[nx][ny] == 'P' and distance[x][y] <= 1:\n",
    "                        return 0\n",
    "    return 1\n",
    "\n",
    "def solution(places):\n",
    "    answer = []\n",
    "    for place in places:\n",
    "        answer.append(bfs(place))\n",
    "    return answer"
   ]
  },
  {
   "cell_type": "markdown",
   "id": "23d5ff6b",
   "metadata": {},
   "source": [
    "## 3. 표 편집\n",
    "\n",
    "https://programmers.co.kr/learn/courses/30/lessons/81303?language=python3"
   ]
  },
  {
   "cell_type": "code",
   "execution_count": 587,
   "id": "41f21b9b",
   "metadata": {},
   "outputs": [],
   "source": [
    "# passes accuracy, fails optimality (efficiency) partially\n",
    "\n",
    "def solution(n, k, cmd):\n",
    "    answer = ['O' for _ in range(n)]\n",
    "    stack = []\n",
    "    \n",
    "    for c in cmd:\n",
    "        if c == 'C':\n",
    "            stack.append(k)\n",
    "            answer[k] = 'X'\n",
    "            rev = False\n",
    "            while answer[k] == 'X':\n",
    "                if not rev:\n",
    "                    if k == n-1:\n",
    "                        rev = True\n",
    "                    else:\n",
    "                        k += 1\n",
    "                else:\n",
    "                    if k == 0:\n",
    "                        rev = False\n",
    "                    else:\n",
    "                        k -= 1            \n",
    "\n",
    "        elif c == 'Z':\n",
    "            answer[stack.pop()] = 'O'\n",
    "            \n",
    "        else:\n",
    "            num, x, y = 0, c.split()[0], int(c.split()[1])\n",
    "            while num < y:\n",
    "                if x == 'D':\n",
    "                    k += 1\n",
    "                    if answer[k] == 'O':\n",
    "                        num += 1\n",
    "                elif x == 'U':\n",
    "                    k -= 1\n",
    "                    if answer[k] == 'O':\n",
    "                        num += 1    \n",
    "                        \n",
    "    return ''.join(answer)"
   ]
  },
  {
   "cell_type": "code",
   "execution_count": 588,
   "id": "164cc272",
   "metadata": {},
   "outputs": [
    {
     "name": "stdout",
     "output_type": "stream",
     "text": [
      "OOOOXOOO\n",
      "OOXOXOOO\n"
     ]
    }
   ],
   "source": [
    "print(solution(8, 2, [\"D 2\",\"C\",\"U 3\",\"C\",\"D 4\",\"C\",\"U 2\",\"Z\",\"Z\"])) # \"OOOOXOOO\"\n",
    "print(solution(8, 2, [\"D 2\",\"C\",\"U 3\",\"C\",\"D 4\",\"C\",\"U 2\",\"Z\",\"Z\",\"U 1\",\"C\"])) # \"OOXOXOOO\""
   ]
  },
  {
   "cell_type": "code",
   "execution_count": null,
   "id": "15111f96",
   "metadata": {},
   "outputs": [],
   "source": []
  }
 ],
 "metadata": {
  "kernelspec": {
   "display_name": "Python 3",
   "language": "python",
   "name": "python3"
  },
  "language_info": {
   "codemirror_mode": {
    "name": "ipython",
    "version": 3
   },
   "file_extension": ".py",
   "mimetype": "text/x-python",
   "name": "python",
   "nbconvert_exporter": "python",
   "pygments_lexer": "ipython3",
   "version": "3.8.8"
  }
 },
 "nbformat": 4,
 "nbformat_minor": 5
}

{
 "cells": [
  {
   "cell_type": "markdown",
   "id": "a0e92e9b",
   "metadata": {},
   "source": [
    "# Greedy\n",
    "\n",
    "## 주유소 (실4)\n",
    "\n",
    "https://www.acmicpc.net/problem/13305"
   ]
  },
  {
   "cell_type": "code",
   "execution_count": 17,
   "id": "7da777c6",
   "metadata": {},
   "outputs": [
    {
     "name": "stdout",
     "output_type": "stream",
     "text": [
      "5\n",
      "2 3 1 1\n",
      "5 2 4 1 1\n",
      "19\n"
     ]
    }
   ],
   "source": [
    "n = int(input())\n",
    "dists = list(map(int, input().split()))\n",
    "prices = list(map(int, input().split()))\n",
    "\n",
    "indices = []\n",
    "tmp = prices[0]\n",
    "\n",
    "# find indices where the prices decrease\n",
    "for i in range(1, n-1):\n",
    "    if prices[i] < tmp:\n",
    "        indices.append(i)\n",
    "        tmp = prices[i]\n",
    "        \n",
    "# if no lower prices than the 1st station\n",
    "if not indices:\n",
    "    print(prices[0]*sum(dists))\n",
    "# if the prices get lower\n",
    "else:\n",
    "    # initial\n",
    "    ans = prices[0]*sum(dists[:indices[0]])\n",
    "    for i in range(len(indices)-1):\n",
    "        ans += prices[indices[i]]*sum(dists[indices[i]:indices[i+1]])\n",
    "    # add last\n",
    "    print(ans + prices[indices[-1]]*sum(dists[indices[-1]:]))"
   ]
  },
  {
   "cell_type": "markdown",
   "id": "db4813fb",
   "metadata": {},
   "source": [
    "## 캠핑 (실5)\n",
    "https://www.acmicpc.net/problem/4796"
   ]
  },
  {
   "cell_type": "code",
   "execution_count": 19,
   "id": "5601d8b1",
   "metadata": {},
   "outputs": [
    {
     "name": "stdout",
     "output_type": "stream",
     "text": [
      "5 8 20\n",
      "Case 1: 14\n",
      "5 8 17\n",
      "Case 2: 11\n",
      "0 0 0\n"
     ]
    }
   ],
   "source": [
    "n = 1\n",
    "\n",
    "while True:\n",
    "    lpv = list(map(int, input().split()))\n",
    "    if sum(lpv) == 0:\n",
    "        break\n",
    "    print(f'Case {n}: {lpv[0]*(lpv[-1]//lpv[1])+min(lpv[0], lpv[-1]%lpv[1])}')\n",
    "    n += 1"
   ]
  },
  {
   "cell_type": "markdown",
   "id": "e213dbcd",
   "metadata": {},
   "source": [
    "## 기타줄 (실4)\n",
    "\n",
    "https://www.acmicpc.net/problem/1049"
   ]
  },
  {
   "cell_type": "code",
   "execution_count": 29,
   "id": "52c09ab1",
   "metadata": {},
   "outputs": [
    {
     "name": "stdout",
     "output_type": "stream",
     "text": [
      "7 2\n",
      "10 3\n",
      "12 2\n",
      "12\n"
     ]
    }
   ],
   "source": [
    "import math\n",
    "\n",
    "n, m = map(int, input().split())\n",
    "\n",
    "packs, strings = n//6, n%6\n",
    "\n",
    "if m == 1:\n",
    "    a, b = map(int, input().split())\n",
    "    print(min(a*packs+b*strings, a*(packs+math.ceil(0.1*strings)), b*(packs*6+strings)))\n",
    "else:\n",
    "    a, b = map(int, input().split())\n",
    "    for _ in range(m-1):\n",
    "        x, y = map(int, input().split())\n",
    "        a = min(a, x)\n",
    "        b = min(b, y)\n",
    "    print(min(a*packs+b*strings, a*(packs+math.ceil(0.1*strings)), b*(packs*6+strings)))"
   ]
  },
  {
   "cell_type": "markdown",
   "id": "3a87b71f",
   "metadata": {},
   "source": [
    "## 회의실 배정 (실1)\n",
    "\n",
    "https://www.acmicpc.net/problem/1931"
   ]
  },
  {
   "cell_type": "code",
   "execution_count": 11,
   "id": "34201d3d",
   "metadata": {},
   "outputs": [
    {
     "name": "stdout",
     "output_type": "stream",
     "text": [
      "4\n"
     ]
    }
   ],
   "source": [
    "n = int(input())\n",
    "stack = [[0]*2 for _ in range(n)]\n",
    "\n",
    "for i in range(n):\n",
    "    a, b = map(int, input().split())\n",
    "    stack[i][0] = a\n",
    "    stack[i][1] = b\n",
    "\n",
    "stack.sort(key = lambda x: (x[1], x[0]))\n",
    "\n",
    "ans, end = 0, 0\n",
    "\n",
    "for s, e in stack:\n",
    "    if s >= end:\n",
    "        ans += 1\n",
    "        end = e\n",
    "\n",
    "print(ans)"
   ]
  },
  {
   "cell_type": "markdown",
   "id": "3a89d5b6",
   "metadata": {},
   "source": [
    "# 자료구조"
   ]
  },
  {
   "cell_type": "markdown",
   "id": "d1f4983e",
   "metadata": {},
   "source": [
    "## 오큰수 (골4)\n",
    "\n",
    "https://www.acmicpc.net/problem/17298"
   ]
  },
  {
   "cell_type": "code",
   "execution_count": 26,
   "id": "78d0e18b",
   "metadata": {},
   "outputs": [
    {
     "name": "stdout",
     "output_type": "stream",
     "text": [
      "4\n",
      "9 5 4 8\n",
      "[-1, 8, 8, -1]\n"
     ]
    }
   ],
   "source": [
    "# fails optimization\n",
    "\n",
    "n = int(input())\n",
    "nums = list(map(int, input().split()))\n",
    "\n",
    "ans = []\n",
    "x, max_val = nums[0], max(nums)\n",
    "\n",
    "for num in nums:\n",
    "    if len(ans) == len(nums)-1:\n",
    "        ans.append(-1)\n",
    "    elif num == max_val:\n",
    "        ans.append(-1)\n",
    "    elif num == x and ans:\n",
    "        ans.append(ans.index(x))\n",
    "    else:        \n",
    "        a, i = nums.index(num), 1\n",
    "        while a+1 <= len(nums)-1:\n",
    "            if nums[a+i] > nums[a]:\n",
    "                ans.append(nums[a+i])\n",
    "                break\n",
    "            i += 1\n",
    "        if a+1 == len(nums):\n",
    "            if num < nums[-1]:\n",
    "                ans.append(nums[-1])\n",
    "            else:\n",
    "                ans.append(-1)\n",
    "        x = num\n",
    "        \n",
    "print(ans)"
   ]
  },
  {
   "cell_type": "code",
   "execution_count": 32,
   "id": "80a1c943",
   "metadata": {},
   "outputs": [
    {
     "name": "stdout",
     "output_type": "stream",
     "text": [
      "4\n",
      "3 5 2 7\n",
      "5 7 7 -1\n"
     ]
    }
   ],
   "source": [
    "n = int(input())\n",
    "nums = list(map(int, input().split()))\n",
    "stack = [0]\n",
    "ans = [-1]*n\n",
    "\n",
    "for i in range(1, n):\n",
    "    while stack and nums[i] > nums[stack[-1]]:\n",
    "        ans[stack.pop()] = nums[i]\n",
    "    stack.append(i)\n",
    "    \n",
    "print(*ans)"
   ]
  },
  {
   "cell_type": "markdown",
   "id": "1f693662",
   "metadata": {},
   "source": [
    "## 오등큰수 (골3)\n",
    "\n",
    "https://www.acmicpc.net/problem/17299"
   ]
  },
  {
   "cell_type": "code",
   "execution_count": 33,
   "id": "6a1147ca",
   "metadata": {},
   "outputs": [
    {
     "name": "stdout",
     "output_type": "stream",
     "text": [
      "7\n",
      "1 1 2 3 4 2 1\n",
      "-1 -1 1 2 2 1 -1\n"
     ]
    }
   ],
   "source": [
    "n = int(input())\n",
    "nums = list(map(int, input().split()))\n",
    "stack = [0]\n",
    "count = dict()\n",
    "\n",
    "for num in nums:\n",
    "    if num in count.keys():\n",
    "        count[num] += 1\n",
    "    else:\n",
    "        count[num] = 1\n",
    "\n",
    "ans = [-1]*n\n",
    "\n",
    "for i in range(1, n):\n",
    "    while stack and count[nums[i]] > count[nums[stack[-1]]]:\n",
    "        ans[stack.pop()] = nums[i]\n",
    "    stack.append(i)\n",
    "    \n",
    "print(*ans)"
   ]
  },
  {
   "cell_type": "markdown",
   "id": "ad8d5448",
   "metadata": {},
   "source": [
    "## 후위 표기식2 (실3)\n",
    "\n",
    "https://www.acmicpc.net/problem/1935"
   ]
  },
  {
   "cell_type": "code",
   "execution_count": 76,
   "id": "f76b8589",
   "metadata": {},
   "outputs": [
    {
     "name": "stdout",
     "output_type": "stream",
     "text": [
      "5\n",
      "ABC*+DE/-\n",
      "1\n",
      "2\n",
      "3\n",
      "4\n",
      "5\n",
      "6.20\n"
     ]
    }
   ],
   "source": [
    "n = int(input())\n",
    "expr = input()\n",
    "alpha = [0] * n\n",
    "\n",
    "for i in range(n):\n",
    "    alpha[i] = int(input())\n",
    "    \n",
    "stack = []\n",
    "\n",
    "for x in expr:\n",
    "    if x.isalpha():\n",
    "        stack.append(alpha[ord(x) - ord('A')])\n",
    "    else:\n",
    "        b = stack.pop()\n",
    "        a = stack.pop()\n",
    "        \n",
    "        if x == '+':\n",
    "            stack.append(a + b)\n",
    "        elif x == '-':\n",
    "            stack.append(a - b)\n",
    "        elif x == '*':\n",
    "            stack.append(a * b)\n",
    "        else:\n",
    "            stack.append(a / b)\n",
    "            \n",
    "print(format(stack[0], '.2f'))"
   ]
  },
  {
   "cell_type": "markdown",
   "id": "1b41af8f",
   "metadata": {},
   "source": [
    "## 후위 표기식 (골3)"
   ]
  },
  {
   "cell_type": "code",
   "execution_count": 78,
   "id": "eb1af0ab",
   "metadata": {},
   "outputs": [
    {
     "name": "stdout",
     "output_type": "stream",
     "text": [
      "A*(B+C)\n",
      "ABC+*\n"
     ]
    }
   ],
   "source": [
    "expr = input()\n",
    "\n",
    "stack = []\n",
    "ans = ''\n",
    "\n",
    "for x in expr:\n",
    "    if x.isalpha():\n",
    "        ans += x\n",
    "    else:\n",
    "        if x == '(':\n",
    "            stack.append(x)\n",
    "        elif x == '*' or x =='/':\n",
    "            while stack and (stack[-1]=='*' or stack[-1]=='/'):\n",
    "                ans += stack.pop()\n",
    "            stack.append(x)\n",
    "        elif x == '+' or x == '-':\n",
    "            while stack and stack[-1] != '(':\n",
    "                ans += stack.pop()\n",
    "            stack.append(x)\n",
    "        elif x == ')':\n",
    "            while stack and stack[-1] != '(':\n",
    "                ans += stack.pop()\n",
    "            stack.pop()\n",
    "\n",
    "while stack:\n",
    "    ans += stack.pop()\n",
    "print(ans)"
   ]
  },
  {
   "cell_type": "markdown",
   "id": "d9391152",
   "metadata": {},
   "source": [
    "## 알파벳 개수 (브2)\n",
    "\n",
    "https://www.acmicpc.net/problem/10808"
   ]
  },
  {
   "cell_type": "code",
   "execution_count": 87,
   "id": "10d39d72",
   "metadata": {},
   "outputs": [
    {
     "name": "stdout",
     "output_type": "stream",
     "text": [
      "baekjoon\n",
      "1 1 0 0 1 0 0 0 0 1 1 0 0 1 2 0 0 0 0 0 0 0 0 0 0 0\n"
     ]
    }
   ],
   "source": [
    "sen = list(input())\n",
    "alpha = [0]*26\n",
    "\n",
    "for char in sen:\n",
    "    alpha[ord(char) - ord('a')] += 1\n",
    "    \n",
    "print(*alpha)"
   ]
  },
  {
   "cell_type": "markdown",
   "id": "f398b5ff",
   "metadata": {},
   "source": [
    "## 알파벳 찾기 (브2)\n",
    "\n",
    "https://www.acmicpc.net/problem/10809"
   ]
  },
  {
   "cell_type": "code",
   "execution_count": 89,
   "id": "b4e67779",
   "metadata": {},
   "outputs": [
    {
     "name": "stdout",
     "output_type": "stream",
     "text": [
      "baekjoon\n",
      "1 0 -1 -1 2 -1 -1 -1 -1 4 3 -1 -1 7 5 -1 -1 -1 -1 -1 -1 -1 -1 -1 -1 -1\n"
     ]
    }
   ],
   "source": [
    "sen = list(input())\n",
    "alpha = [-1]*26\n",
    "\n",
    "for i in range(len(sen)):\n",
    "    if alpha[ord(sen[i]) - ord('a')] == -1:\n",
    "        alpha[ord(sen[i]) - ord('a')] = i\n",
    "    \n",
    "print(*alpha)"
   ]
  },
  {
   "cell_type": "markdown",
   "id": "a83c1fa5",
   "metadata": {},
   "source": [
    "## 문자열 분석 (브2)\n",
    "\n",
    "https://www.acmicpc.net/problem/10820"
   ]
  },
  {
   "cell_type": "code",
   "execution_count": 95,
   "id": "86b8dad3",
   "metadata": {},
   "outputs": [],
   "source": [
    "import sys\n",
    "\n",
    "while True:\n",
    "    s = sys.stdin.readline().rstrip('\\n')\n",
    "\n",
    "    if not s:\n",
    "        break\n",
    "\n",
    "    a, b, c, d = 0, 0, 0, 0\n",
    "\n",
    "    for char in s:\n",
    "        if char.islower():\n",
    "            a += 1\n",
    "        elif char.isupper():\n",
    "            b += 1\n",
    "        elif char.isdigit():\n",
    "            c += 1\n",
    "        else:\n",
    "            d += 1\n",
    "\n",
    "    print(a, b, c, d)"
   ]
  },
  {
   "cell_type": "markdown",
   "id": "ebd503a6",
   "metadata": {},
   "source": [
    "## 단어 길이 재기 (브2)\n",
    "\n",
    "https://www.acmicpc.net/problem/2743"
   ]
  },
  {
   "cell_type": "code",
   "execution_count": 97,
   "id": "0ad5056b",
   "metadata": {},
   "outputs": [
    {
     "name": "stdout",
     "output_type": "stream",
     "text": [
      "pulljima\n",
      "8\n"
     ]
    }
   ],
   "source": [
    "print(len(input()))"
   ]
  },
  {
   "cell_type": "markdown",
   "id": "83dac717",
   "metadata": {},
   "source": [
    "## ROT13 (브1)\n",
    "\n",
    "https://www.acmicpc.net/problem/11655"
   ]
  },
  {
   "cell_type": "code",
   "execution_count": 9,
   "id": "622c5b9a",
   "metadata": {},
   "outputs": [
    {
     "name": "stdout",
     "output_type": "stream",
     "text": [
      "Baekjoon Online Judge\n",
      "Onrxwbba Bayvar Whqtr\n"
     ]
    }
   ],
   "source": [
    "s = input()\n",
    "ans = ''\n",
    "\n",
    "for char in s:\n",
    "    if char.isupper():\n",
    "        if ord(char) - ord('M') <= 0:\n",
    "            ans += chr(ord(char) + 13)\n",
    "        else:\n",
    "            ans += chr(ord(char) - 13)\n",
    "    elif char.islower():\n",
    "        if ord(char) - ord('m') <= 0:\n",
    "            ans += chr(ord(char) + 13)\n",
    "        else:\n",
    "            ans += chr(ord(char) - 13)\n",
    "    else:\n",
    "        ans += char\n",
    "        \n",
    "print(ans)"
   ]
  },
  {
   "cell_type": "markdown",
   "id": "61156f7c",
   "metadata": {},
   "source": [
    "## 네 수 (브3)\n",
    "\n",
    "https://www.acmicpc.net/problem/10824"
   ]
  },
  {
   "cell_type": "code",
   "execution_count": 10,
   "id": "b9283863",
   "metadata": {},
   "outputs": [
    {
     "name": "stdout",
     "output_type": "stream",
     "text": [
      "10 20 30 40\n",
      "4060\n"
     ]
    }
   ],
   "source": [
    "a, b, c, d = input().split()\n",
    "print(int(a+b)+int(c+d))"
   ]
  },
  {
   "cell_type": "markdown",
   "id": "13d069fe",
   "metadata": {},
   "source": [
    "## 접미사 배열 (실4)\n",
    "\n",
    "https://www.acmicpc.net/problem/11656"
   ]
  },
  {
   "cell_type": "code",
   "execution_count": 13,
   "id": "8709022c",
   "metadata": {},
   "outputs": [
    {
     "name": "stdout",
     "output_type": "stream",
     "text": [
      "baekjoon\n",
      "aekjoon\n",
      "baekjoon\n",
      "ekjoon\n",
      "joon\n",
      "kjoon\n",
      "n\n",
      "on\n",
      "oon\n"
     ]
    }
   ],
   "source": [
    "s = input()\n",
    "lst = []\n",
    "\n",
    "for i in range(len(s)):\n",
    "    lst.append(s[i:])\n",
    "    \n",
    "for elem in sorted(lst):\n",
    "    print(elem)"
   ]
  },
  {
   "cell_type": "markdown",
   "id": "e131033e",
   "metadata": {},
   "source": [
    "# 수학"
   ]
  },
  {
   "cell_type": "markdown",
   "id": "005d4647",
   "metadata": {},
   "source": [
    "## 최대공약수와 최소공배수 (실5)\n",
    "\n",
    "https://www.acmicpc.net/problem/2609"
   ]
  },
  {
   "cell_type": "code",
   "execution_count": null,
   "id": "d1bfff11",
   "metadata": {},
   "outputs": [],
   "source": []
  }
 ],
 "metadata": {
  "kernelspec": {
   "display_name": "Python 3",
   "language": "python",
   "name": "python3"
  },
  "language_info": {
   "codemirror_mode": {
    "name": "ipython",
    "version": 3
   },
   "file_extension": ".py",
   "mimetype": "text/x-python",
   "name": "python",
   "nbconvert_exporter": "python",
   "pygments_lexer": "ipython3",
   "version": "3.8.8"
  }
 },
 "nbformat": 4,
 "nbformat_minor": 5
}

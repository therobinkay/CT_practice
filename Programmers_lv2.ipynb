{
 "cells": [
  {
   "cell_type": "markdown",
   "id": "371a601f",
   "metadata": {},
   "source": [
    "# 구현"
   ]
  },
  {
   "cell_type": "markdown",
   "id": "caf4a73c",
   "metadata": {},
   "source": [
    "## 문자열 구현"
   ]
  },
  {
   "cell_type": "markdown",
   "id": "25e99e78",
   "metadata": {},
   "source": [
    "### 문자열 압축\n",
    "\n",
    "https://programmers.co.kr/learn/courses/30/lessons/60057?language=python3"
   ]
  },
  {
   "cell_type": "code",
   "execution_count": 27,
   "id": "d232a510",
   "metadata": {},
   "outputs": [],
   "source": [
    "from itertools import groupby\n",
    "\n",
    "def solution(s):\n",
    "    answer = len(s)\n",
    "    \n",
    "    for i in range(1, len(s)//2+1):\n",
    "        val = 0   # comparison value\n",
    "        charlist = []   # list of sliced characters\n",
    "        \n",
    "        for j in range(0, len(s)-i+1, i):\n",
    "            charlist.append(s[j:j+i])\n",
    "        charlist.append(s[j+i:])   # remaining characters\n",
    "        # list of characters and frequency\n",
    "        charlist = [[k,len(list(v))] for k,v in groupby(charlist)]\n",
    "        \n",
    "        for char in charlist:\n",
    "            if char[1] > 1:   # if occurs more than once\n",
    "                val += len(char[0])+len(str(char[1]))\n",
    "            else:\n",
    "                val += len(char[0])\n",
    "        answer = min(val, answer)\n",
    "        \n",
    "    return answer"
   ]
  },
  {
   "cell_type": "code",
   "execution_count": null,
   "id": "20a0e51c",
   "metadata": {},
   "outputs": [],
   "source": [
    "# alternative answer (no package)\n",
    "\n",
    "def solution(s):\n",
    "    answer = len(s)\n",
    "    \n",
    "    for i in range(1, len(s)//2+1):\n",
    "        count = 0\n",
    "        start, end = 0, i   # for iteration\n",
    "        \n",
    "        while end <= len(s):\n",
    "            coeff = 1   # coefficient\n",
    "            # until the substrings don't match\n",
    "            while s[start:end] == s[end:end+i]: \n",
    "                coeff += 1  # add to coefficient\n",
    "                start += i  # update start\n",
    "                end += i    # update end\n",
    "            if coeff == 1:  # if not zipped\n",
    "                count += i\n",
    "            else:   # if zipped\n",
    "                count += (i+len(str(coeff)))\n",
    "            start += i  # new start\n",
    "            end += i    # new end\n",
    "        if end > len(s):    # the last substring\n",
    "            count += (len(s)-(end-i))\n",
    "        answer = min(answer, count) # update for minimum answer\n",
    "        \n",
    "    return answer"
   ]
  },
  {
   "cell_type": "code",
   "execution_count": 28,
   "id": "6910199c",
   "metadata": {},
   "outputs": [
    {
     "name": "stdout",
     "output_type": "stream",
     "text": [
      "7\n",
      "9\n",
      "8\n",
      "14\n",
      "17\n",
      "5\n"
     ]
    }
   ],
   "source": [
    "print(solution(\"aabbaccc\"))\n",
    "print(solution(\"ababcdcdababcdcd\"))\n",
    "print(solution(\"abcabcdede\"))\n",
    "print(solution(\"abcabcabcabcdededededede\"))\n",
    "print(solution(\"xababcdcdababcdcd\"))\n",
    "print(solution(\"xxxxxxxxxxyyy\"))\n",
    "\n",
    "# expected answer: 7, 9, 8, 14, 17, 5"
   ]
  },
  {
   "cell_type": "code",
   "execution_count": null,
   "id": "d30acd90",
   "metadata": {},
   "outputs": [],
   "source": []
  }
 ],
 "metadata": {
  "kernelspec": {
   "display_name": "Python 3",
   "language": "python",
   "name": "python3"
  },
  "language_info": {
   "codemirror_mode": {
    "name": "ipython",
    "version": 3
   },
   "file_extension": ".py",
   "mimetype": "text/x-python",
   "name": "python",
   "nbconvert_exporter": "python",
   "pygments_lexer": "ipython3",
   "version": "3.8.8"
  }
 },
 "nbformat": 4,
 "nbformat_minor": 5
}

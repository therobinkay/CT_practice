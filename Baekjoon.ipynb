{
 "cells": [
  {
   "cell_type": "markdown",
   "id": "cc189058",
   "metadata": {},
   "source": [
    "# 입출력\n",
    "\n",
    "## ??! (브5)\n",
    "\n",
    "https://www.acmicpc.net/problem/10926"
   ]
  },
  {
   "cell_type": "code",
   "execution_count": null,
   "id": "116e8d7c",
   "metadata": {},
   "outputs": [],
   "source": [
    "s = input()\n",
    "print(s + '??!')"
   ]
  },
  {
   "cell_type": "markdown",
   "id": "9630ad31",
   "metadata": {},
   "source": [
    "## 1998년생인 내가 태국에서는 2541년생?! (브5)\n",
    "\n",
    "https://www.acmicpc.net/problem/18108"
   ]
  },
  {
   "cell_type": "code",
   "execution_count": 45,
   "id": "cb47a9ad",
   "metadata": {
    "ExecuteTime": {
     "end_time": "2022-06-11T06:42:30.737847Z",
     "start_time": "2022-06-11T06:42:28.550879Z"
    }
   },
   "outputs": [
    {
     "name": "stdout",
     "output_type": "stream",
     "text": [
      "2541\n",
      "1998\n"
     ]
    }
   ],
   "source": [
    "n = int(input())\n",
    "print(n + 1998 - 2541)"
   ]
  },
  {
   "cell_type": "markdown",
   "id": "3b0f4e4d",
   "metadata": {},
   "source": [
    "## 새싹 (브5)\n",
    "\n",
    "https://www.acmicpc.net/problem/25083"
   ]
  },
  {
   "cell_type": "code",
   "execution_count": 46,
   "id": "1080b549",
   "metadata": {
    "ExecuteTime": {
     "end_time": "2022-06-11T06:44:00.833567Z",
     "start_time": "2022-06-11T06:44:00.822411Z"
    }
   },
   "outputs": [
    {
     "name": "stdout",
     "output_type": "stream",
     "text": [
      "         ,r'\"7\n",
      "r`-_   ,'  ,/\n",
      " \\. \". L_r'\n",
      "   `~\\/\n",
      "      |\n",
      "      |\n"
     ]
    }
   ],
   "source": [
    "def leaf():\n",
    "    print('         ,r\\'\\\"7')\n",
    "    print('r`-_   ,\\'  ,/')\n",
    "    print(' \\. \\\". L_r\\'')\n",
    "    print('   `~\\/')\n",
    "    print('      |')\n",
    "    print('      |')\n",
    "leaf()"
   ]
  },
  {
   "cell_type": "markdown",
   "id": "a0e92e9b",
   "metadata": {},
   "source": [
    "# Greedy\n",
    "\n",
    "## 주유소 (실4)\n",
    "\n",
    "https://www.acmicpc.net/problem/13305"
   ]
  },
  {
   "cell_type": "code",
   "execution_count": 17,
   "id": "7da777c6",
   "metadata": {},
   "outputs": [
    {
     "name": "stdout",
     "output_type": "stream",
     "text": [
      "5\n",
      "2 3 1 1\n",
      "5 2 4 1 1\n",
      "19\n"
     ]
    }
   ],
   "source": [
    "n = int(input())\n",
    "dists = list(map(int, input().split()))\n",
    "prices = list(map(int, input().split()))\n",
    "\n",
    "indices = []\n",
    "tmp = prices[0]\n",
    "\n",
    "# find indices where the prices decrease\n",
    "for i in range(1, n-1):\n",
    "    if prices[i] < tmp:\n",
    "        indices.append(i)\n",
    "        tmp = prices[i]\n",
    "        \n",
    "# if no lower prices than the 1st station\n",
    "if not indices:\n",
    "    print(prices[0]*sum(dists))\n",
    "# if the prices get lower\n",
    "else:\n",
    "    # initial\n",
    "    ans = prices[0]*sum(dists[:indices[0]])\n",
    "    for i in range(len(indices)-1):\n",
    "        ans += prices[indices[i]]*sum(dists[indices[i]:indices[i+1]])\n",
    "    # add last\n",
    "    print(ans + prices[indices[-1]]*sum(dists[indices[-1]:]))"
   ]
  },
  {
   "cell_type": "markdown",
   "id": "db4813fb",
   "metadata": {},
   "source": [
    "## 캠핑 (실5)\n",
    "https://www.acmicpc.net/problem/4796"
   ]
  },
  {
   "cell_type": "code",
   "execution_count": 19,
   "id": "5601d8b1",
   "metadata": {},
   "outputs": [
    {
     "name": "stdout",
     "output_type": "stream",
     "text": [
      "5 8 20\n",
      "Case 1: 14\n",
      "5 8 17\n",
      "Case 2: 11\n",
      "0 0 0\n"
     ]
    }
   ],
   "source": [
    "n = 1\n",
    "\n",
    "while True:\n",
    "    lpv = list(map(int, input().split()))\n",
    "    if sum(lpv) == 0:\n",
    "        break\n",
    "    print(f'Case {n}: {lpv[0]*(lpv[-1]//lpv[1])+min(lpv[0], lpv[-1]%lpv[1])}')\n",
    "    n += 1"
   ]
  },
  {
   "cell_type": "markdown",
   "id": "e213dbcd",
   "metadata": {},
   "source": [
    "## 기타줄 (실4)\n",
    "\n",
    "https://www.acmicpc.net/problem/1049"
   ]
  },
  {
   "cell_type": "code",
   "execution_count": 29,
   "id": "52c09ab1",
   "metadata": {},
   "outputs": [
    {
     "name": "stdout",
     "output_type": "stream",
     "text": [
      "7 2\n",
      "10 3\n",
      "12 2\n",
      "12\n"
     ]
    }
   ],
   "source": [
    "import math\n",
    "\n",
    "n, m = map(int, input().split())\n",
    "\n",
    "packs, strings = n//6, n%6\n",
    "\n",
    "if m == 1:\n",
    "    a, b = map(int, input().split())\n",
    "    print(min(a*packs+b*strings, a*(packs+math.ceil(0.1*strings)), b*(packs*6+strings)))\n",
    "else:\n",
    "    a, b = map(int, input().split())\n",
    "    for _ in range(m-1):\n",
    "        x, y = map(int, input().split())\n",
    "        a = min(a, x)\n",
    "        b = min(b, y)\n",
    "    print(min(a*packs+b*strings, a*(packs+math.ceil(0.1*strings)), b*(packs*6+strings)))"
   ]
  },
  {
   "cell_type": "markdown",
   "id": "3a87b71f",
   "metadata": {},
   "source": [
    "## 회의실 배정 (실1)\n",
    "\n",
    "https://www.acmicpc.net/problem/1931"
   ]
  },
  {
   "cell_type": "code",
   "execution_count": 11,
   "id": "34201d3d",
   "metadata": {},
   "outputs": [
    {
     "name": "stdout",
     "output_type": "stream",
     "text": [
      "4\n"
     ]
    }
   ],
   "source": [
    "n = int(input())\n",
    "stack = [[0]*2 for _ in range(n)]\n",
    "\n",
    "for i in range(n):\n",
    "    a, b = map(int, input().split())\n",
    "    stack[i][0] = a\n",
    "    stack[i][1] = b\n",
    "\n",
    "stack.sort(key = lambda x: (x[1], x[0]))\n",
    "\n",
    "ans, end = 0, 0\n",
    "\n",
    "for s, e in stack:\n",
    "    if s >= end:\n",
    "        ans += 1\n",
    "        end = e\n",
    "\n",
    "print(ans)"
   ]
  },
  {
   "cell_type": "markdown",
   "id": "3a89d5b6",
   "metadata": {},
   "source": [
    "# 자료구조 1"
   ]
  },
  {
   "cell_type": "markdown",
   "id": "d1f4983e",
   "metadata": {},
   "source": [
    "## 오큰수 (골4)\n",
    "\n",
    "https://www.acmicpc.net/problem/17298"
   ]
  },
  {
   "cell_type": "code",
   "execution_count": 26,
   "id": "78d0e18b",
   "metadata": {},
   "outputs": [
    {
     "name": "stdout",
     "output_type": "stream",
     "text": [
      "4\n",
      "9 5 4 8\n",
      "[-1, 8, 8, -1]\n"
     ]
    }
   ],
   "source": [
    "# fails optimization\n",
    "\n",
    "n = int(input())\n",
    "nums = list(map(int, input().split()))\n",
    "\n",
    "ans = []\n",
    "x, max_val = nums[0], max(nums)\n",
    "\n",
    "for num in nums:\n",
    "    if len(ans) == len(nums)-1:\n",
    "        ans.append(-1)\n",
    "    elif num == max_val:\n",
    "        ans.append(-1)\n",
    "    elif num == x and ans:\n",
    "        ans.append(ans.index(x))\n",
    "    else:        \n",
    "        a, i = nums.index(num), 1\n",
    "        while a+1 <= len(nums)-1:\n",
    "            if nums[a+i] > nums[a]:\n",
    "                ans.append(nums[a+i])\n",
    "                break\n",
    "            i += 1\n",
    "        if a+1 == len(nums):\n",
    "            if num < nums[-1]:\n",
    "                ans.append(nums[-1])\n",
    "            else:\n",
    "                ans.append(-1)\n",
    "        x = num\n",
    "        \n",
    "print(ans)"
   ]
  },
  {
   "cell_type": "code",
   "execution_count": 32,
   "id": "80a1c943",
   "metadata": {},
   "outputs": [
    {
     "name": "stdout",
     "output_type": "stream",
     "text": [
      "4\n",
      "3 5 2 7\n",
      "5 7 7 -1\n"
     ]
    }
   ],
   "source": [
    "n = int(input())\n",
    "nums = list(map(int, input().split()))\n",
    "stack = [0]\n",
    "ans = [-1]*n\n",
    "\n",
    "for i in range(1, n):\n",
    "    while stack and nums[i] > nums[stack[-1]]:\n",
    "        ans[stack.pop()] = nums[i]\n",
    "    stack.append(i)\n",
    "    \n",
    "print(*ans)"
   ]
  },
  {
   "cell_type": "markdown",
   "id": "1f693662",
   "metadata": {},
   "source": [
    "## 오등큰수 (골3)\n",
    "\n",
    "https://www.acmicpc.net/problem/17299"
   ]
  },
  {
   "cell_type": "code",
   "execution_count": 33,
   "id": "6a1147ca",
   "metadata": {},
   "outputs": [
    {
     "name": "stdout",
     "output_type": "stream",
     "text": [
      "7\n",
      "1 1 2 3 4 2 1\n",
      "-1 -1 1 2 2 1 -1\n"
     ]
    }
   ],
   "source": [
    "n = int(input())\n",
    "nums = list(map(int, input().split()))\n",
    "stack = [0]\n",
    "count = dict()\n",
    "\n",
    "for num in nums:\n",
    "    if num in count.keys():\n",
    "        count[num] += 1\n",
    "    else:\n",
    "        count[num] = 1\n",
    "\n",
    "ans = [-1]*n\n",
    "\n",
    "for i in range(1, n):\n",
    "    while stack and count[nums[i]] > count[nums[stack[-1]]]:\n",
    "        ans[stack.pop()] = nums[i]\n",
    "    stack.append(i)\n",
    "    \n",
    "print(*ans)"
   ]
  },
  {
   "cell_type": "markdown",
   "id": "ad8d5448",
   "metadata": {},
   "source": [
    "## 후위 표기식2 (실3)\n",
    "\n",
    "https://www.acmicpc.net/problem/1935"
   ]
  },
  {
   "cell_type": "code",
   "execution_count": 76,
   "id": "f76b8589",
   "metadata": {},
   "outputs": [
    {
     "name": "stdout",
     "output_type": "stream",
     "text": [
      "5\n",
      "ABC*+DE/-\n",
      "1\n",
      "2\n",
      "3\n",
      "4\n",
      "5\n",
      "6.20\n"
     ]
    }
   ],
   "source": [
    "n = int(input())\n",
    "expr = input()\n",
    "alpha = [0] * n\n",
    "\n",
    "for i in range(n):\n",
    "    alpha[i] = int(input())\n",
    "    \n",
    "stack = []\n",
    "\n",
    "for x in expr:\n",
    "    if x.isalpha():\n",
    "        stack.append(alpha[ord(x) - ord('A')])\n",
    "    else:\n",
    "        b = stack.pop()\n",
    "        a = stack.pop()\n",
    "        \n",
    "        if x == '+':\n",
    "            stack.append(a + b)\n",
    "        elif x == '-':\n",
    "            stack.append(a - b)\n",
    "        elif x == '*':\n",
    "            stack.append(a * b)\n",
    "        else:\n",
    "            stack.append(a / b)\n",
    "            \n",
    "print(format(stack[0], '.2f'))"
   ]
  },
  {
   "cell_type": "markdown",
   "id": "1b41af8f",
   "metadata": {},
   "source": [
    "## 후위 표기식 (골3)"
   ]
  },
  {
   "cell_type": "code",
   "execution_count": 78,
   "id": "eb1af0ab",
   "metadata": {},
   "outputs": [
    {
     "name": "stdout",
     "output_type": "stream",
     "text": [
      "A*(B+C)\n",
      "ABC+*\n"
     ]
    }
   ],
   "source": [
    "expr = input()\n",
    "\n",
    "stack = []\n",
    "ans = ''\n",
    "\n",
    "for x in expr:\n",
    "    if x.isalpha():\n",
    "        ans += x\n",
    "    else:\n",
    "        if x == '(':\n",
    "            stack.append(x)\n",
    "        elif x == '*' or x =='/':\n",
    "            while stack and (stack[-1]=='*' or stack[-1]=='/'):\n",
    "                ans += stack.pop()\n",
    "            stack.append(x)\n",
    "        elif x == '+' or x == '-':\n",
    "            while stack and stack[-1] != '(':\n",
    "                ans += stack.pop()\n",
    "            stack.append(x)\n",
    "        elif x == ')':\n",
    "            while stack and stack[-1] != '(':\n",
    "                ans += stack.pop()\n",
    "            stack.pop()\n",
    "\n",
    "while stack:\n",
    "    ans += stack.pop()\n",
    "print(ans)"
   ]
  },
  {
   "cell_type": "markdown",
   "id": "d9391152",
   "metadata": {},
   "source": [
    "## 알파벳 개수 (브2)\n",
    "\n",
    "https://www.acmicpc.net/problem/10808"
   ]
  },
  {
   "cell_type": "code",
   "execution_count": 87,
   "id": "10d39d72",
   "metadata": {},
   "outputs": [
    {
     "name": "stdout",
     "output_type": "stream",
     "text": [
      "baekjoon\n",
      "1 1 0 0 1 0 0 0 0 1 1 0 0 1 2 0 0 0 0 0 0 0 0 0 0 0\n"
     ]
    }
   ],
   "source": [
    "sen = list(input())\n",
    "alpha = [0]*26\n",
    "\n",
    "for char in sen:\n",
    "    alpha[ord(char) - ord('a')] += 1\n",
    "    \n",
    "print(*alpha)"
   ]
  },
  {
   "cell_type": "markdown",
   "id": "f398b5ff",
   "metadata": {},
   "source": [
    "## 알파벳 찾기 (브2)\n",
    "\n",
    "https://www.acmicpc.net/problem/10809"
   ]
  },
  {
   "cell_type": "code",
   "execution_count": 89,
   "id": "b4e67779",
   "metadata": {},
   "outputs": [
    {
     "name": "stdout",
     "output_type": "stream",
     "text": [
      "baekjoon\n",
      "1 0 -1 -1 2 -1 -1 -1 -1 4 3 -1 -1 7 5 -1 -1 -1 -1 -1 -1 -1 -1 -1 -1 -1\n"
     ]
    }
   ],
   "source": [
    "sen = list(input())\n",
    "alpha = [-1]*26\n",
    "\n",
    "for i in range(len(sen)):\n",
    "    if alpha[ord(sen[i]) - ord('a')] == -1:\n",
    "        alpha[ord(sen[i]) - ord('a')] = i\n",
    "    \n",
    "print(*alpha)"
   ]
  },
  {
   "cell_type": "markdown",
   "id": "a83c1fa5",
   "metadata": {},
   "source": [
    "## 문자열 분석 (브2)\n",
    "\n",
    "https://www.acmicpc.net/problem/10820"
   ]
  },
  {
   "cell_type": "code",
   "execution_count": 95,
   "id": "86b8dad3",
   "metadata": {},
   "outputs": [],
   "source": [
    "import sys\n",
    "\n",
    "while True:\n",
    "    s = sys.stdin.readline().rstrip('\\n')\n",
    "\n",
    "    if not s:\n",
    "        break\n",
    "\n",
    "    a, b, c, d = 0, 0, 0, 0\n",
    "\n",
    "    for char in s:\n",
    "        if char.islower():\n",
    "            a += 1\n",
    "        elif char.isupper():\n",
    "            b += 1\n",
    "        elif char.isdigit():\n",
    "            c += 1\n",
    "        else:\n",
    "            d += 1\n",
    "\n",
    "    print(a, b, c, d)"
   ]
  },
  {
   "cell_type": "markdown",
   "id": "ebd503a6",
   "metadata": {},
   "source": [
    "## 단어 길이 재기 (브2)\n",
    "\n",
    "https://www.acmicpc.net/problem/2743"
   ]
  },
  {
   "cell_type": "code",
   "execution_count": 97,
   "id": "0ad5056b",
   "metadata": {},
   "outputs": [
    {
     "name": "stdout",
     "output_type": "stream",
     "text": [
      "pulljima\n",
      "8\n"
     ]
    }
   ],
   "source": [
    "print(len(input()))"
   ]
  },
  {
   "cell_type": "markdown",
   "id": "83dac717",
   "metadata": {},
   "source": [
    "## ROT13 (브1)\n",
    "\n",
    "https://www.acmicpc.net/problem/11655"
   ]
  },
  {
   "cell_type": "code",
   "execution_count": 9,
   "id": "622c5b9a",
   "metadata": {},
   "outputs": [
    {
     "name": "stdout",
     "output_type": "stream",
     "text": [
      "Baekjoon Online Judge\n",
      "Onrxwbba Bayvar Whqtr\n"
     ]
    }
   ],
   "source": [
    "s = input()\n",
    "ans = ''\n",
    "\n",
    "for char in s:\n",
    "    if char.isupper():\n",
    "        if ord(char) - ord('M') <= 0:\n",
    "            ans += chr(ord(char) + 13)\n",
    "        else:\n",
    "            ans += chr(ord(char) - 13)\n",
    "    elif char.islower():\n",
    "        if ord(char) - ord('m') <= 0:\n",
    "            ans += chr(ord(char) + 13)\n",
    "        else:\n",
    "            ans += chr(ord(char) - 13)\n",
    "    else:\n",
    "        ans += char\n",
    "        \n",
    "print(ans)"
   ]
  },
  {
   "cell_type": "markdown",
   "id": "f8618c2e",
   "metadata": {},
   "source": [
    "## 네 수 (브3)\n",
    "\n",
    "https://www.acmicpc.net/problem/10824"
   ]
  },
  {
   "cell_type": "code",
   "execution_count": 10,
   "id": "715927c7",
   "metadata": {},
   "outputs": [
    {
     "name": "stdout",
     "output_type": "stream",
     "text": [
      "10 20 30 40\n",
      "4060\n"
     ]
    }
   ],
   "source": [
    "a, b, c, d = input().split()\n",
    "print(int(a+b)+int(c+d))"
   ]
  },
  {
   "cell_type": "markdown",
   "id": "009acc1b",
   "metadata": {},
   "source": [
    "## 접미사 배열 (실4)\n",
    "\n",
    "https://www.acmicpc.net/problem/11656"
   ]
  },
  {
   "cell_type": "code",
   "execution_count": 13,
   "id": "1ed2ab0d",
   "metadata": {},
   "outputs": [
    {
     "name": "stdout",
     "output_type": "stream",
     "text": [
      "baekjoon\n",
      "aekjoon\n",
      "baekjoon\n",
      "ekjoon\n",
      "joon\n",
      "kjoon\n",
      "n\n",
      "on\n",
      "oon\n"
     ]
    }
   ],
   "source": [
    "s = input()\n",
    "lst = []\n",
    "\n",
    "for i in range(len(s)):\n",
    "    lst.append(s[i:])\n",
    "    \n",
    "for elem in sorted(lst):\n",
    "    print(elem)"
   ]
  },
  {
   "cell_type": "markdown",
   "id": "e4ab1571",
   "metadata": {},
   "source": [
    "# 수학 1"
   ]
  },
  {
   "cell_type": "markdown",
   "id": "82e4deed",
   "metadata": {},
   "source": [
    "## 최대공약수와 최소공배수 (실5)\n",
    "\n",
    "https://www.acmicpc.net/problem/2609"
   ]
  },
  {
   "cell_type": "code",
   "execution_count": 15,
   "id": "131eda5d",
   "metadata": {},
   "outputs": [
    {
     "name": "stdout",
     "output_type": "stream",
     "text": [
      "24 18\n",
      "6\n",
      "72\n"
     ]
    }
   ],
   "source": [
    "from math import gcd\n",
    "\n",
    "a, b = map(int, input().split())\n",
    "\n",
    "print(gcd(a, b))\n",
    "print((a * b)//gcd(a, b))"
   ]
  },
  {
   "cell_type": "markdown",
   "id": "7387c34f",
   "metadata": {},
   "source": [
    "## 최소공배수 (실5)\n",
    "\n",
    "https://www.acmicpc.net/problem/1934"
   ]
  },
  {
   "cell_type": "code",
   "execution_count": 16,
   "id": "7747af84",
   "metadata": {},
   "outputs": [
    {
     "name": "stdout",
     "output_type": "stream",
     "text": [
      "3\n",
      "1 45000\n",
      "45000\n",
      "6 10\n",
      "30\n",
      "13 17\n",
      "221\n"
     ]
    }
   ],
   "source": [
    "from math import gcd\n",
    "\n",
    "t = int(input())\n",
    "\n",
    "for _ in range(t):\n",
    "    a, b = map(int, input().split())\n",
    "    print((a * b)//gcd(a, b))"
   ]
  },
  {
   "cell_type": "markdown",
   "id": "42aa01d6",
   "metadata": {},
   "source": [
    "## 소수 찾기 (실4)\n",
    "\n",
    "https://www.acmicpc.net/problem/1978"
   ]
  },
  {
   "cell_type": "code",
   "execution_count": 19,
   "id": "f2156da3",
   "metadata": {},
   "outputs": [
    {
     "name": "stdout",
     "output_type": "stream",
     "text": [
      "4\n",
      "1 3 5 7\n",
      "3\n"
     ]
    }
   ],
   "source": [
    "from math import sqrt\n",
    "\n",
    "\n",
    "def prime(x):\n",
    "    if x == 1:\n",
    "        return False\n",
    "    for i in range(2, int(sqrt(x)) + 1):\n",
    "        if x % i == 0:\n",
    "            return False\n",
    "    return True\n",
    "\n",
    "\n",
    "n = int(input())\n",
    "nums = list(map(int, input().split()))\n",
    "ans = 0\n",
    "\n",
    "for num in nums:\n",
    "    if prime(num):\n",
    "        ans += 1\n",
    "\n",
    "print(ans)"
   ]
  },
  {
   "cell_type": "markdown",
   "id": "efb4b74a",
   "metadata": {},
   "source": [
    "## 소수 구하기 (실3)\n",
    "\n",
    "https://www.acmicpc.net/problem/1929"
   ]
  },
  {
   "cell_type": "code",
   "execution_count": 21,
   "id": "291e8633",
   "metadata": {},
   "outputs": [
    {
     "name": "stdout",
     "output_type": "stream",
     "text": [
      "3 16\n",
      "3\n",
      "5\n",
      "7\n",
      "11\n",
      "13\n"
     ]
    }
   ],
   "source": [
    "from math import sqrt\n",
    "\n",
    "\n",
    "def prime(x):\n",
    "    if x == 1:\n",
    "        return False\n",
    "    for i in range(2, int(sqrt(x)) + 1):\n",
    "        if x % i == 0:\n",
    "            return False\n",
    "    return True\n",
    "\n",
    "\n",
    "m, n = map(int, input().split())\n",
    "\n",
    "for x in range(m, n+1):\n",
    "    if prime(x):\n",
    "        print(x)"
   ]
  },
  {
   "cell_type": "markdown",
   "id": "338057b0",
   "metadata": {},
   "source": [
    "## 골드바흐의 추측 (실1)\n",
    "\n",
    "https://www.acmicpc.net/problem/6588"
   ]
  },
  {
   "cell_type": "code",
   "execution_count": 31,
   "id": "5bb01d0e",
   "metadata": {},
   "outputs": [
    {
     "name": "stdout",
     "output_type": "stream",
     "text": [
      "8\n",
      "8 = 3 + 5\n",
      "20\n",
      "20 = 3 + 17\n",
      "42\n",
      "42 = 5 + 37\n",
      "0\n"
     ]
    }
   ],
   "source": [
    "from math import sqrt\n",
    "\n",
    "primes = [False, False] + [True]*(1000000-1)\n",
    "x = 2\n",
    "\n",
    "while x < int(sqrt(len(primes)))+1:\n",
    "    if primes[x]:\n",
    "        for num in range(2, 1000000//x+1):\n",
    "            primes[x*num] = False\n",
    "    x += 1\n",
    "\n",
    "while True:\n",
    "    n = int(input())\n",
    "    a, b = 1, n-1\n",
    "    if n == 0:\n",
    "        break\n",
    "    while a < n//2 + 1:\n",
    "        if primes[a] and primes[b]:\n",
    "            print(f'{n} = {a} + {b}')\n",
    "            break\n",
    "        else:\n",
    "            a += 1\n",
    "            b -= 1"
   ]
  },
  {
   "cell_type": "markdown",
   "id": "12286d3b",
   "metadata": {},
   "source": [
    "## 팩토리얼 (브3)\n",
    "\n",
    "https://www.acmicpc.net/problem/10872"
   ]
  },
  {
   "cell_type": "code",
   "execution_count": 2,
   "id": "58737890",
   "metadata": {},
   "outputs": [
    {
     "name": "stdout",
     "output_type": "stream",
     "text": [
      "10\n",
      "3628800\n"
     ]
    }
   ],
   "source": [
    "n = int(input())\n",
    "\n",
    "if n <= 1:\n",
    "    print(1)\n",
    "else:\n",
    "    ans = 1\n",
    "    for i in range(2, n+1):\n",
    "        ans *= i\n",
    "    print(ans)"
   ]
  },
  {
   "cell_type": "markdown",
   "id": "1e7fb06c",
   "metadata": {},
   "source": [
    "## 팩토리얼 0의 개수 (실5)\n",
    "\n",
    "https://www.acmicpc.net/problem/1676"
   ]
  },
  {
   "cell_type": "code",
   "execution_count": 6,
   "id": "9ce9599a",
   "metadata": {},
   "outputs": [
    {
     "name": "stdout",
     "output_type": "stream",
     "text": [
      "10\n",
      "0088263\n",
      "2\n"
     ]
    }
   ],
   "source": [
    "n = int(input())\n",
    "\n",
    "if n <= 1:\n",
    "    fctr = 1\n",
    "else:\n",
    "    fctr = 1\n",
    "    for i in range(2, n+1):\n",
    "        fctr *= i\n",
    "        \n",
    "fctr = str(fctr)[::-1]\n",
    "ans = 0\n",
    "\n",
    "for char in fctr:\n",
    "    if char != '0':\n",
    "        break\n",
    "    ans += 1\n",
    "        \n",
    "print(ans)"
   ]
  },
  {
   "cell_type": "markdown",
   "id": "c9b4bc5b",
   "metadata": {},
   "source": [
    "## 조합 0의 개수 (실2)\n",
    "\n",
    "https://www.acmicpc.net/problem/2004"
   ]
  },
  {
   "cell_type": "code",
   "execution_count": 14,
   "id": "16f83d65",
   "metadata": {},
   "outputs": [
    {
     "name": "stdout",
     "output_type": "stream",
     "text": [
      "25 12\n",
      "2\n"
     ]
    }
   ],
   "source": [
    "m, n = map(int, input().split())\n",
    "\n",
    "def numcount(a, b):\n",
    "    soln = 0\n",
    "    while a:\n",
    "        a //= b\n",
    "        soln += a\n",
    "    return soln\n",
    "\n",
    "fives = numcount(m, 5) - numcount(n, 5) - numcount(m-n, 5)\n",
    "twos = numcount(m, 2) - numcount(n, 2) - numcount(m-n, 2)\n",
    "\n",
    "print(min(fives, twos))"
   ]
  },
  {
   "cell_type": "markdown",
   "id": "757352b8",
   "metadata": {},
   "source": [
    "## GCD 합 (실3)\n",
    "\n",
    "https://www.acmicpc.net/problem/9613"
   ]
  },
  {
   "cell_type": "code",
   "execution_count": 38,
   "id": "11c5d58f",
   "metadata": {},
   "outputs": [
    {
     "name": "stdout",
     "output_type": "stream",
     "text": [
      "3\n",
      "4 10 20 30 40\n",
      "70\n",
      "3 7 5 12\n",
      "3\n",
      "3 125 15 25\n",
      "35\n"
     ]
    }
   ],
   "source": [
    "from itertools import combinations\n",
    "from math import gcd\n",
    "\n",
    "t = int(input())\n",
    "\n",
    "for _ in range(t):\n",
    "    nums = list(map(int, input().split()))[1:]\n",
    "    ans = 0\n",
    "    combos = [c for c in combinations(nums, 2)]\n",
    "    \n",
    "    for combo in combos:\n",
    "        ans += gcd(combo[0], combo[1])\n",
    "        \n",
    "    print(ans)"
   ]
  },
  {
   "cell_type": "markdown",
   "id": "84f320b7",
   "metadata": {},
   "source": [
    "## 숨바꼭질6 (실2)\n",
    "\n",
    "https://www.acmicpc.net/problem/17087"
   ]
  },
  {
   "cell_type": "code",
   "execution_count": 44,
   "id": "41bbcb56",
   "metadata": {},
   "outputs": [
    {
     "name": "stdout",
     "output_type": "stream",
     "text": [
      "1 1\n",
      "1000000000\n",
      "999999999\n"
     ]
    }
   ],
   "source": [
    "from functools import reduce\n",
    "from math import gcd\n",
    "\n",
    "n, s = map(int, input().split())\n",
    "locs = list(map(int, input().split()))\n",
    "\n",
    "locs = [abs(loc - s) for loc in locs]\n",
    "print(reduce(gcd, locs))"
   ]
  },
  {
   "cell_type": "markdown",
   "id": "303cf88e",
   "metadata": {},
   "source": [
    "## 2진수 8진수 (브2)\n",
    "\n",
    "https://www.acmicpc.net/problem/1373"
   ]
  },
  {
   "cell_type": "code",
   "execution_count": 49,
   "id": "0d324473",
   "metadata": {},
   "outputs": [
    {
     "name": "stdout",
     "output_type": "stream",
     "text": [
      "11001100\n",
      "314\n"
     ]
    }
   ],
   "source": [
    "s = input()\n",
    "\n",
    "print(oct(int(s, 2))[2:])"
   ]
  },
  {
   "cell_type": "markdown",
   "id": "880936da",
   "metadata": {},
   "source": [
    "## 8진수 2진수 (브2)\n",
    "\n",
    "https://www.acmicpc.net/problem/1212"
   ]
  },
  {
   "cell_type": "code",
   "execution_count": 50,
   "id": "66be7527",
   "metadata": {},
   "outputs": [
    {
     "name": "stdout",
     "output_type": "stream",
     "text": [
      "314\n",
      "11001100\n"
     ]
    }
   ],
   "source": [
    "s = input()\n",
    "\n",
    "print(bin(int(s, 8))[2:])"
   ]
  },
  {
   "cell_type": "markdown",
   "id": "629ed2e7",
   "metadata": {},
   "source": [
    "## -2진수 (실4)\n",
    "\n",
    "https://www.acmicpc.net/problem/2089"
   ]
  },
  {
   "cell_type": "code",
   "execution_count": 62,
   "id": "34327685",
   "metadata": {},
   "outputs": [
    {
     "name": "stdout",
     "output_type": "stream",
     "text": [
      "-13\n",
      "110111\n"
     ]
    }
   ],
   "source": [
    "def EncodeNegBase(n, b): #Converts from decimal\n",
    "    if n == 0:\n",
    "        return \"0\"\n",
    "    res = ''\n",
    "    while n != 0:\n",
    "        n, rem = divmod(n, b)\n",
    "        if rem < 0:\n",
    "            n += 1\n",
    "            rem -= b\n",
    "        res += str(rem)\n",
    "    return res[::-1]\n",
    "\n",
    "print(EncodeNegBase(int(input()), -2))"
   ]
  },
  {
   "cell_type": "markdown",
   "id": "c5f1aff1",
   "metadata": {},
   "source": [
    "## 골드바흐 파티션 (실2)\n",
    "\n",
    "https://www.acmicpc.net/problem/17103"
   ]
  },
  {
   "cell_type": "code",
   "execution_count": 3,
   "id": "cd771425",
   "metadata": {},
   "outputs": [
    {
     "name": "stdout",
     "output_type": "stream",
     "text": [
      "5\n",
      "6\n",
      "8\n",
      "10\n",
      "12\n",
      "100\n",
      "1\n",
      "1\n",
      "2\n",
      "1\n",
      "6\n"
     ]
    }
   ],
   "source": [
    "t = int(input())\n",
    "nums = []\n",
    "\n",
    "for _ in range(t):\n",
    "    nums.append(int(input()))\n",
    "    \n",
    "m = max(nums)\n",
    "\n",
    "primes = [False, False] + [True]*(m-1)\n",
    "\n",
    "for i in range(2, int(m**0.5)+1):\n",
    "    if primes[i]:\n",
    "        for j in range(2, m//i+1):\n",
    "            primes[i*j] = False\n",
    "\n",
    "for num in nums:\n",
    "    ans = 0\n",
    "    for i in range(num//2 + 1):\n",
    "        if primes[i] and primes[num-i]:\n",
    "            ans += 1\n",
    "    print(ans)"
   ]
  },
  {
   "cell_type": "markdown",
   "id": "dad18a0b",
   "metadata": {},
   "source": [
    "## 진법 변환2 (브1)\n",
    "\n",
    "https://www.acmicpc.net/problem/11005"
   ]
  },
  {
   "cell_type": "code",
   "execution_count": 12,
   "id": "27b740b2",
   "metadata": {},
   "outputs": [
    {
     "name": "stdout",
     "output_type": "stream",
     "text": [
      "60466175 36\n",
      "ZZZZZ\n"
     ]
    }
   ],
   "source": [
    "import string\n",
    "\n",
    "n, b = map(int, input().split())\n",
    "keystr = (string.digits+string.ascii_uppercase)[:b]\n",
    "\n",
    "base_str = ''\n",
    "if 0 <= n < b:\n",
    "    print(keystr[n])\n",
    "else:\n",
    "    while n != 0:\n",
    "        n, i = divmod(n, b)\n",
    "        base_str = keystr[i] + base_str\n",
    "    print(base_str)"
   ]
  },
  {
   "cell_type": "markdown",
   "id": "2b064628",
   "metadata": {},
   "source": [
    "## 진법 변환 (브2)\n",
    "\n",
    "https://www.acmicpc.net/problem/2745"
   ]
  },
  {
   "cell_type": "code",
   "execution_count": 23,
   "id": "6dc74448",
   "metadata": {},
   "outputs": [
    {
     "name": "stdout",
     "output_type": "stream",
     "text": [
      "ZZZZZ 36\n",
      "60466175\n"
     ]
    }
   ],
   "source": [
    "import string\n",
    "\n",
    "n, b = input().split()\n",
    "keystr = (string.digits+string.ascii_uppercase)[:int(b)]\n",
    "\n",
    "n = n[::-1]\n",
    "ans = 0\n",
    "\n",
    "for i in range(len(n)):\n",
    "    ans += keystr.index(n[i]) * int(b)**i\n",
    "    \n",
    "print(ans)"
   ]
  },
  {
   "cell_type": "markdown",
   "id": "e98a2b30",
   "metadata": {},
   "source": [
    "## Base Conversion (실5)\n",
    "\n",
    "https://www.acmicpc.net/problem/11576"
   ]
  },
  {
   "cell_type": "code",
   "execution_count": 34,
   "id": "08987f70",
   "metadata": {},
   "outputs": [
    {
     "name": "stdout",
     "output_type": "stream",
     "text": [
      "17 8\n",
      "2\n",
      "2 16\n",
      "6 2\n"
     ]
    }
   ],
   "source": [
    "a, b = map(int, input().split())\n",
    "n = int(input())\n",
    "nums = list(map(int, input().split()))[::-1]\n",
    "\n",
    "dec = 0\n",
    "\n",
    "for i in range(len(nums)):\n",
    "    dec += nums[i] * a ** i\n",
    "    \n",
    "ans = []\n",
    "while dec > 0:\n",
    "    ans.append(divmod(dec, b)[1])\n",
    "    dec = divmod(dec, b)[0]\n",
    "    \n",
    "print(*ans[::-1])"
   ]
  },
  {
   "cell_type": "markdown",
   "id": "28a7266f",
   "metadata": {},
   "source": [
    "## 소인수분해 (실5)\n",
    "\n",
    "https://www.acmicpc.net/problem/11653"
   ]
  },
  {
   "cell_type": "code",
   "execution_count": 48,
   "id": "0b47ddf7",
   "metadata": {},
   "outputs": [
    {
     "name": "stdout",
     "output_type": "stream",
     "text": [
      "9991\n",
      "97\n",
      "103\n"
     ]
    }
   ],
   "source": [
    "n = int(input())\n",
    "\n",
    "def prime(x):\n",
    "    if x == 1:\n",
    "        return False\n",
    "    for i in range(2, int(x**0.5) + 1):\n",
    "        if x % i == 0:\n",
    "            return False\n",
    "    return True\n",
    "\n",
    "while n > 1:\n",
    "    if prime(n):\n",
    "        print(n)\n",
    "        break\n",
    "    for i in range(2, int(n**0.5)+1):\n",
    "        if n%i == 0:\n",
    "            n //= i\n",
    "            print(i)\n",
    "            break"
   ]
  },
  {
   "cell_type": "markdown",
   "id": "f2ef4bfc",
   "metadata": {},
   "source": [
    "# DP 1"
   ]
  },
  {
   "cell_type": "markdown",
   "id": "84b00ec6",
   "metadata": {},
   "source": [
    "## 1로 만들기 (실3)\n",
    "\n",
    "https://www.acmicpc.net/problem/1463"
   ]
  },
  {
   "cell_type": "code",
   "execution_count": 30,
   "id": "a1ba3913",
   "metadata": {
    "ExecuteTime": {
     "end_time": "2022-06-10T09:02:16.520006Z",
     "start_time": "2022-06-10T09:02:14.664726Z"
    }
   },
   "outputs": [
    {
     "name": "stdout",
     "output_type": "stream",
     "text": [
      "234890\n",
      "19\n"
     ]
    }
   ],
   "source": [
    "n = int(input())\n",
    "\n",
    "counts = [0] * (n+1)\n",
    "\n",
    "for i in range(2, n+1):\n",
    "    counts[i] = counts[i-1]+1\n",
    "    if i % 3 == 0:\n",
    "        counts[i] = min(counts[i], counts[i//3]+1)\n",
    "    if i % 2 == 0:\n",
    "        counts[i] = min(counts[i], counts[i//2]+1)\n",
    "\n",
    "print(counts[n])"
   ]
  },
  {
   "cell_type": "markdown",
   "id": "e00a45c7",
   "metadata": {},
   "source": [
    "## 2xn 타일링 (실3)\n",
    "\n",
    "https://www.acmicpc.net/problem/11726"
   ]
  },
  {
   "cell_type": "code",
   "execution_count": 37,
   "id": "86a281ae",
   "metadata": {
    "ExecuteTime": {
     "end_time": "2022-06-10T09:43:13.409034Z",
     "start_time": "2022-06-10T09:43:12.515042Z"
    }
   },
   "outputs": [
    {
     "name": "stdout",
     "output_type": "stream",
     "text": [
      "9\n",
      "55\n"
     ]
    }
   ],
   "source": [
    "# fibo!\n",
    "\n",
    "import sys\n",
    "sys.setrecursionlimit(10**6)\n",
    "\n",
    "mem = [-1 for i in range(1001)]\n",
    "\n",
    "def dp(n):\n",
    "    if mem[n] != -1: return mem[n]\n",
    "    if n == 0: return 1 # 공집합도 1로본다\n",
    "    if n == 1: return 1\n",
    "    mem[n] = (dp(n-1) + dp(n-2)) % 10007\n",
    "    return mem[n]\n",
    "\n",
    "n = int(input())\n",
    "\n",
    "print(dp(n))"
   ]
  },
  {
   "cell_type": "markdown",
   "id": "38919fb7",
   "metadata": {},
   "source": [
    "## 2xn 타일링 2 (실3)\n",
    "\n",
    "https://www.acmicpc.net/problem/11727"
   ]
  },
  {
   "cell_type": "code",
   "execution_count": 39,
   "id": "7e089c29",
   "metadata": {
    "ExecuteTime": {
     "end_time": "2022-06-10T09:53:18.845003Z",
     "start_time": "2022-06-10T09:53:15.768477Z"
    }
   },
   "outputs": [
    {
     "name": "stdout",
     "output_type": "stream",
     "text": [
      "12\n",
      "2731\n"
     ]
    }
   ],
   "source": [
    "import sys\n",
    "sys.setrecursionlimit(10**6)\n",
    "\n",
    "mem = [-1 for i in range(1001)]\n",
    "\n",
    "def dp2(n):\n",
    "    if mem[n] != -1: return mem[n]\n",
    "    if n == 0: return 1 # 공집합도 1로본다\n",
    "    if n == 1: return 1\n",
    "    mem[n] = (dp2(n-1) + dp2(n-2)*2) % 10007\n",
    "    return mem[n]\n",
    "\n",
    "n = int(input())\n",
    "\n",
    "print(dp2(n))"
   ]
  },
  {
   "cell_type": "markdown",
   "id": "927d7840",
   "metadata": {},
   "source": [
    "## 1, 2, 3 더하기 (실3)\n",
    "\n",
    "https://www.acmicpc.net/problem/9095"
   ]
  },
  {
   "cell_type": "code",
   "execution_count": 44,
   "id": "d2d60e30",
   "metadata": {
    "ExecuteTime": {
     "end_time": "2022-06-10T10:02:22.147137Z",
     "start_time": "2022-06-10T10:02:20.262164Z"
    }
   },
   "outputs": [
    {
     "name": "stdout",
     "output_type": "stream",
     "text": [
      "3\n",
      "1\n",
      "1\n",
      "2\n",
      "2\n",
      "3\n",
      "4\n"
     ]
    }
   ],
   "source": [
    "import sys\n",
    "sys.setrecursionlimit(10**6)\n",
    "\n",
    "mem = [-1 for i in range(12)]\n",
    "\n",
    "def sum123(n):\n",
    "    mem[1] = 1\n",
    "    mem[2] = 2\n",
    "    mem[3] = 4\n",
    "    if mem[n] != -1: return mem[n]\n",
    "    mem[n] = sum123(n-3) + sum123(n-2) + sum123(n-1)\n",
    "    return mem[n]\n",
    "\n",
    "t = int(input())\n",
    "for _ in range(t):\n",
    "    n = int(input())\n",
    "    print(sum123(n))"
   ]
  },
  {
   "cell_type": "markdown",
   "id": "54e3c9f5",
   "metadata": {},
   "source": [
    "## 카드 구매하기 (실1)\n",
    "\n",
    "https://www.acmicpc.net/problem/11052"
   ]
  },
  {
   "cell_type": "code",
   "execution_count": null,
   "id": "a1060f72",
   "metadata": {},
   "outputs": [],
   "source": []
  }
 ],
 "metadata": {
  "kernelspec": {
   "display_name": "Python 3",
   "language": "python",
   "name": "python3"
  },
  "language_info": {
   "codemirror_mode": {
    "name": "ipython",
    "version": 3
   },
   "file_extension": ".py",
   "mimetype": "text/x-python",
   "name": "python",
   "nbconvert_exporter": "python",
   "pygments_lexer": "ipython3",
   "version": "3.8.8"
  }
 },
 "nbformat": 4,
 "nbformat_minor": 5
}

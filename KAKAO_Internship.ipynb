{
 "cells": [
  {
   "cell_type": "markdown",
   "id": "a9594c46",
   "metadata": {},
   "source": [
    "# 2019 Internship\n",
    "\n",
    "## 1. 크레인 인형뽑기 게임\n",
    "\n",
    "https://programmers.co.kr/learn/courses/30/lessons/64061"
   ]
  },
  {
   "cell_type": "code",
   "execution_count": 62,
   "id": "072bccc0",
   "metadata": {},
   "outputs": [],
   "source": [
    "def solution(board, moves):\n",
    "    ans = 0\n",
    "    moves = [x-1 for x in moves]\n",
    "    stack = [0]\n",
    "    for move in moves:\n",
    "        for row in range(len(board)):\n",
    "            if board[row][move] != 0:\n",
    "                if stack[-1] == board[row][move]:\n",
    "                    stack.pop()\n",
    "                    ans += 2\n",
    "                else:\n",
    "                    stack.append(board[row][move])\n",
    "                board[row][move] = 0\n",
    "                break\n",
    "    return ans"
   ]
  },
  {
   "cell_type": "code",
   "execution_count": 63,
   "id": "be08b059",
   "metadata": {},
   "outputs": [
    {
     "name": "stdout",
     "output_type": "stream",
     "text": [
      "4\n",
      "4.98 µs ± 26.5 ns per loop (mean ± std. dev. of 7 runs, 100000 loops each)\n"
     ]
    }
   ],
   "source": [
    "print(solution([[0,0,0,0,0],[0,0,1,0,3],[0,2,5,0,1],[4,2,4,4,2],[3,5,1,3,1]], [1,5,3,5,1,2,1,4])) # 4\n",
    "\n",
    "%timeit solution([[0,0,0,0,0],[0,0,1,0,3],[0,2,5,0,1],[4,2,4,4,2],[3,5,1,3,1]], [1,5,3,5,1,2,1,4])"
   ]
  },
  {
   "cell_type": "markdown",
   "id": "3c65e48f",
   "metadata": {},
   "source": [
    "## 2. 튜플\n",
    "\n",
    "https://programmers.co.kr/learn/courses/30/lessons/64065?language=python3"
   ]
  },
  {
   "cell_type": "code",
   "execution_count": 135,
   "id": "c31d8091",
   "metadata": {},
   "outputs": [],
   "source": [
    "from collections import Counter\n",
    "\n",
    "def solution(s):\n",
    "    count = []\n",
    "    s = s[1:-1]\n",
    "    words = [x for x in s.split('},{')]\n",
    "    words[0] = words[0][1:]\n",
    "    words[-1] = words[-1][:-1]\n",
    "    for word in words:\n",
    "        for x in word.split(','):\n",
    "            count.append(int(x))\n",
    "    count = Counter(count).most_common()\n",
    "    return [x[0] for x in count]"
   ]
  },
  {
   "cell_type": "code",
   "execution_count": 136,
   "id": "decaf577",
   "metadata": {},
   "outputs": [
    {
     "name": "stdout",
     "output_type": "stream",
     "text": [
      "[2, 1, 3, 4]\n",
      "[2, 1, 3, 4]\n",
      "[111, 20]\n",
      "[123]\n",
      "[3, 2, 4, 1]\n",
      "4.47 µs ± 40.3 ns per loop (mean ± std. dev. of 7 runs, 100000 loops each)\n"
     ]
    }
   ],
   "source": [
    "print(solution(\"{{2},{2,1},{2,1,3},{2,1,3,4}}\")) # [2, 1, 3, 4]\n",
    "print(solution(\"{{1,2,3},{2,1},{1,2,4,3},{2}}\")) # [2, 1, 3, 4]\n",
    "print(solution(\"{{20,111},{111}}\")) # [111, 20]\n",
    "print(solution(\"{{123}}\")) # [123]\n",
    "print(solution(\"{{4,2,3},{3},{2,3,4,1},{2,3}}\")) # [3, 2, 4, 1]\n",
    "\n",
    "%timeit solution(\"{{4,2,3},{3},{2,3,4,1},{2,3}}\")"
   ]
  },
  {
   "cell_type": "code",
   "execution_count": 137,
   "id": "5a613bb5",
   "metadata": {},
   "outputs": [
    {
     "name": "stdout",
     "output_type": "stream",
     "text": [
      "4.62 µs ± 48.5 ns per loop (mean ± std. dev. of 7 runs, 100000 loops each)\n"
     ]
    }
   ],
   "source": [
    "import re\n",
    "from collections import Counter\n",
    "\n",
    "def solution(s):\n",
    "    # '\\d+' corresponds to 1 or more digits\n",
    "    s = Counter(re.findall('\\d+', s))   # frequency of each element\n",
    "    return list(map(int, [k for k, v in sorted(s.items(), key=lambda x: x[1], reverse=True)]))\n",
    "\n",
    "%timeit solution(\"{{4,2,3},{3},{2,3,4,1},{2,3}}\")"
   ]
  },
  {
   "cell_type": "markdown",
   "id": "97a52c5d",
   "metadata": {},
   "source": [
    "# 2020 Internship\n",
    "\n",
    "## 1. 키패드 누르기\n",
    "\n",
    "https://programmers.co.kr/learn/courses/30/lessons/67256"
   ]
  },
  {
   "cell_type": "code",
   "execution_count": 52,
   "id": "da519d9a",
   "metadata": {},
   "outputs": [],
   "source": [
    "def solution(numbers, hand):\n",
    "    ans = ''\n",
    "    lefts = [1, 4, 7]\n",
    "    rights = [3, 6, 9]\n",
    "    mids = [2, 5, 8, 0]\n",
    "    l = [3, 0]\n",
    "    r = [3, 2]\n",
    "    for num in numbers:\n",
    "        if num in lefts:\n",
    "            ans += 'L'\n",
    "            l = [lefts.index(num), 0]\n",
    "        elif num in rights:\n",
    "            ans += 'R'\n",
    "            r = [rights.index(num), 2]\n",
    "        else:\n",
    "            idx = mids.index(num)\n",
    "            if abs(idx-l[0])+abs(1-l[1]) < abs(idx-r[0])+abs(1-r[1]):\n",
    "                ans += 'L'\n",
    "                l = [idx, 1]\n",
    "            elif abs(idx-l[0])+abs(1-l[1]) > abs(idx-r[0])+abs(1-r[1]):\n",
    "                ans += 'R'\n",
    "                r = [idx, 1]\n",
    "            else:\n",
    "                if hand == 'left':\n",
    "                    ans += 'L'\n",
    "                    l = [idx, 1]\n",
    "                else:\n",
    "                    ans += 'R'\n",
    "                    r = [idx, 1]\n",
    "    return ans"
   ]
  },
  {
   "cell_type": "code",
   "execution_count": 53,
   "id": "7acc8e71",
   "metadata": {},
   "outputs": [
    {
     "name": "stdout",
     "output_type": "stream",
     "text": [
      "LRLLLRLLRRL\n",
      "LRLLRRLLLRR\n",
      "LLRLLRLLRL\n",
      "4.11 µs ± 28.7 ns per loop (mean ± std. dev. of 7 runs, 100000 loops each)\n"
     ]
    }
   ],
   "source": [
    "print(solution([1, 3, 4, 5, 8, 2, 1, 4, 5, 9, 5], \"right\")) # \"LRLLLRLLRRL\"\n",
    "print(solution([7, 0, 8, 2, 8, 3, 1, 5, 7, 6, 2], \"left\")) # \"LRLLRRLLLRR\"\n",
    "print(solution([1, 2, 3, 4, 5, 6, 7, 8, 9, 0], \"right\")) # \"LLRLLRLLRL\"\n",
    "\n",
    "%timeit solution([1, 3, 4, 5, 8, 2, 1, 4, 5, 9, 5], \"right\")"
   ]
  },
  {
   "cell_type": "markdown",
   "id": "58a8fbb3",
   "metadata": {},
   "source": [
    "## 2. 수식 최대화\n",
    "\n",
    "https://programmers.co.kr/learn/courses/30/lessons/67257"
   ]
  },
  {
   "cell_type": "code",
   "execution_count": null,
   "id": "081cd532",
   "metadata": {},
   "outputs": [],
   "source": [
    "def solution(expression):\n",
    "    "
   ]
  },
  {
   "cell_type": "code",
   "execution_count": null,
   "id": "4ac84a34",
   "metadata": {},
   "outputs": [],
   "source": [
    "print(solution(\"100-200*300-500+20\")) # 60420\n",
    "print(solution(\"50*6-3*2\")) # 300\n",
    "\n",
    "# %timeit solution(\"100-200*300-500+20\")"
   ]
  },
  {
   "cell_type": "markdown",
   "id": "2fedaba0",
   "metadata": {},
   "source": [
    "# 2021 Internship\n",
    "\n",
    "## 1. 숫자 문자열과 영단어\n",
    "\n",
    "https://programmers.co.kr/learn/courses/30/lessons/81301?language=python3"
   ]
  },
  {
   "cell_type": "code",
   "execution_count": 40,
   "id": "2fb5ff64",
   "metadata": {},
   "outputs": [],
   "source": [
    "import re\n",
    "\n",
    "def wordtonum(x):\n",
    "    words = ['zero', 'one', 'two', 'three', 'four', 'five', 'six', 'seven', 'eight', 'nine']\n",
    "    if x in words:\n",
    "        return str(words.index(x))\n",
    "    else:\n",
    "        for i in range(1, len(x)):\n",
    "            if x[:i] in words:\n",
    "                return ''.join([str(words.index(x[:i])), wordtonum(x[i:])])\n",
    "\n",
    "def solution(s):\n",
    "    try:\n",
    "        return int(s)\n",
    "    except ValueError:\n",
    "        ans = ''\n",
    "        res = re.findall('(\\d+|[A-Za-z]+)', s)\n",
    "        for c in res:\n",
    "            if c.isnumeric():\n",
    "                ans += str(c)\n",
    "            else:\n",
    "                ans += wordtonum(c)\n",
    "        return int(ans)"
   ]
  },
  {
   "cell_type": "code",
   "execution_count": 41,
   "id": "2af672f9",
   "metadata": {},
   "outputs": [
    {
     "name": "stdout",
     "output_type": "stream",
     "text": [
      "1478\n",
      "234567\n",
      "234567\n",
      "123\n",
      "5.09 µs ± 39 ns per loop (mean ± std. dev. of 7 runs, 100000 loops each)\n"
     ]
    }
   ],
   "source": [
    "print(solution(\"one4seveneight\")) # 1478\n",
    "print(solution(\"23four5six7\")) #234567\n",
    "print(solution(\"2three45sixseven\")) #234567\n",
    "print(solution(\"123\")) # 123\n",
    "\n",
    "%timeit solution(\"2three45sixseven\")"
   ]
  },
  {
   "cell_type": "markdown",
   "id": "df75cc86",
   "metadata": {},
   "source": [
    "## 2. 거리두기 확인하기\n",
    "\n",
    "https://programmers.co.kr/learn/courses/30/lessons/81302?language=python3"
   ]
  },
  {
   "cell_type": "code",
   "execution_count": null,
   "id": "ef8cce38",
   "metadata": {},
   "outputs": [],
   "source": []
  }
 ],
 "metadata": {
  "kernelspec": {
   "display_name": "Python 3",
   "language": "python",
   "name": "python3"
  },
  "language_info": {
   "codemirror_mode": {
    "name": "ipython",
    "version": 3
   },
   "file_extension": ".py",
   "mimetype": "text/x-python",
   "name": "python",
   "nbconvert_exporter": "python",
   "pygments_lexer": "ipython3",
   "version": "3.8.8"
  }
 },
 "nbformat": 4,
 "nbformat_minor": 5
}

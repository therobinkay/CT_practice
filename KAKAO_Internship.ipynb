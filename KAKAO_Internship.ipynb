{
 "cells": [
  {
   "cell_type": "markdown",
   "id": "6669779f",
   "metadata": {},
   "source": [
    "# 2019 Internship\n",
    "\n",
    "## 1. 크레인 인형뽑기 게임\n",
    "\n",
    "https://programmers.co.kr/learn/courses/30/lessons/64061"
   ]
  },
  {
   "cell_type": "code",
   "execution_count": null,
   "id": "1fb96bfd",
   "metadata": {},
   "outputs": [],
   "source": []
  },
  {
   "cell_type": "markdown",
   "id": "ee7bcc14",
   "metadata": {},
   "source": [
    "# 2020 Internship\n",
    "\n",
    "## 1. 키패드 누르기\n",
    "\n",
    "https://programmers.co.kr/learn/courses/30/lessons/67256"
   ]
  },
  {
   "cell_type": "code",
   "execution_count": 52,
   "id": "dd5f80e6",
   "metadata": {},
   "outputs": [],
   "source": [
    "def solution(numbers, hand):\n",
    "    ans = ''\n",
    "    lefts = [1, 4, 7]\n",
    "    rights = [3, 6, 9]\n",
    "    mids = [2, 5, 8, 0]\n",
    "    l = [3, 0]\n",
    "    r = [3, 2]\n",
    "    for num in numbers:\n",
    "        if num in lefts:\n",
    "            ans += 'L'\n",
    "            l = [lefts.index(num), 0]\n",
    "        elif num in rights:\n",
    "            ans += 'R'\n",
    "            r = [rights.index(num), 2]\n",
    "        else:\n",
    "            idx = mids.index(num)\n",
    "            if abs(idx-l[0])+abs(1-l[1]) < abs(idx-r[0])+abs(1-r[1]):\n",
    "                ans += 'L'\n",
    "                l = [idx, 1]\n",
    "            elif abs(idx-l[0])+abs(1-l[1]) > abs(idx-r[0])+abs(1-r[1]):\n",
    "                ans += 'R'\n",
    "                r = [idx, 1]\n",
    "            else:\n",
    "                if hand == 'left':\n",
    "                    ans += 'L'\n",
    "                    l = [idx, 1]\n",
    "                else:\n",
    "                    ans += 'R'\n",
    "                    r = [idx, 1]\n",
    "    return ans"
   ]
  },
  {
   "cell_type": "code",
   "execution_count": 53,
   "id": "26656f5e",
   "metadata": {},
   "outputs": [
    {
     "name": "stdout",
     "output_type": "stream",
     "text": [
      "LRLLLRLLRRL\n",
      "LRLLRRLLLRR\n",
      "LLRLLRLLRL\n",
      "4.11 µs ± 28.7 ns per loop (mean ± std. dev. of 7 runs, 100000 loops each)\n"
     ]
    }
   ],
   "source": [
    "print(solution([1, 3, 4, 5, 8, 2, 1, 4, 5, 9, 5], \"right\")) # \"LRLLLRLLRRL\"\n",
    "print(solution([7, 0, 8, 2, 8, 3, 1, 5, 7, 6, 2], \"left\")) # \"LRLLRRLLLRR\"\n",
    "print(solution([1, 2, 3, 4, 5, 6, 7, 8, 9, 0], \"right\")) # \"LLRLLRLLRL\"\n",
    "\n",
    "%timeit solution([1, 3, 4, 5, 8, 2, 1, 4, 5, 9, 5], \"right\")"
   ]
  },
  {
   "cell_type": "markdown",
   "id": "8cf05e13",
   "metadata": {},
   "source": [
    "# 2021 Internship\n",
    "\n",
    "## 1. 숫자 문자열과 영단어\n",
    "\n",
    "https://programmers.co.kr/learn/courses/30/lessons/81301?language=python3"
   ]
  },
  {
   "cell_type": "code",
   "execution_count": 40,
   "id": "5ab596b2",
   "metadata": {},
   "outputs": [],
   "source": [
    "import re\n",
    "\n",
    "def wordtonum(x):\n",
    "    words = ['zero', 'one', 'two', 'three', 'four', 'five', 'six', 'seven', 'eight', 'nine']\n",
    "    if x in words:\n",
    "        return str(words.index(x))\n",
    "    else:\n",
    "        for i in range(1, len(x)):\n",
    "            if x[:i] in words:\n",
    "                return ''.join([str(words.index(x[:i])), wordtonum(x[i:])])\n",
    "\n",
    "def solution(s):\n",
    "    try:\n",
    "        return int(s)\n",
    "    except ValueError:\n",
    "        ans = ''\n",
    "        res = re.findall('(\\d+|[A-Za-z]+)', s)\n",
    "        for c in res:\n",
    "            if c.isnumeric():\n",
    "                ans += str(c)\n",
    "            else:\n",
    "                ans += wordtonum(c)\n",
    "        return int(ans)"
   ]
  },
  {
   "cell_type": "code",
   "execution_count": 41,
   "id": "d30df0c2",
   "metadata": {},
   "outputs": [
    {
     "name": "stdout",
     "output_type": "stream",
     "text": [
      "1478\n",
      "234567\n",
      "234567\n",
      "123\n",
      "5.09 µs ± 39 ns per loop (mean ± std. dev. of 7 runs, 100000 loops each)\n"
     ]
    }
   ],
   "source": [
    "print(solution(\"one4seveneight\")) # 1478\n",
    "print(solution(\"23four5six7\")) #234567\n",
    "print(solution(\"2three45sixseven\")) #234567\n",
    "print(solution(\"123\")) # 123\n",
    "\n",
    "%timeit solution(\"2three45sixseven\")"
   ]
  },
  {
   "cell_type": "markdown",
   "id": "ac3b8afa",
   "metadata": {},
   "source": [
    "## 2. 거리두기 확인하기\n",
    "\n",
    "https://programmers.co.kr/learn/courses/30/lessons/81302?language=python3"
   ]
  },
  {
   "cell_type": "code",
   "execution_count": null,
   "id": "95a9d801",
   "metadata": {},
   "outputs": [],
   "source": []
  }
 ],
 "metadata": {
  "kernelspec": {
   "display_name": "Python 3",
   "language": "python",
   "name": "python3"
  },
  "language_info": {
   "codemirror_mode": {
    "name": "ipython",
    "version": 3
   },
   "file_extension": ".py",
   "mimetype": "text/x-python",
   "name": "python",
   "nbconvert_exporter": "python",
   "pygments_lexer": "ipython3",
   "version": "3.8.8"
  }
 },
 "nbformat": 4,
 "nbformat_minor": 5
}

{
 "cells": [
  {
   "cell_type": "markdown",
   "id": "afe1d754",
   "metadata": {},
   "source": [
    "# 2019 Internship\n",
    "\n",
    "## 1. 크레인 인형뽑기 게임\n",
    "\n",
    "https://programmers.co.kr/learn/courses/30/lessons/64061"
   ]
  },
  {
   "cell_type": "code",
   "execution_count": 62,
   "id": "1819e399",
   "metadata": {},
   "outputs": [],
   "source": [
    "def solution(board, moves):\n",
    "    ans = 0\n",
    "    moves = [x-1 for x in moves]\n",
    "    stack = [0]\n",
    "    for move in moves:\n",
    "        for row in range(len(board)):\n",
    "            if board[row][move] != 0:\n",
    "                if stack[-1] == board[row][move]:\n",
    "                    stack.pop()\n",
    "                    ans += 2\n",
    "                else:\n",
    "                    stack.append(board[row][move])\n",
    "                board[row][move] = 0\n",
    "                break\n",
    "    return ans"
   ]
  },
  {
   "cell_type": "code",
   "execution_count": 63,
   "id": "0576c8de",
   "metadata": {},
   "outputs": [
    {
     "name": "stdout",
     "output_type": "stream",
     "text": [
      "4\n",
      "4.98 µs ± 26.5 ns per loop (mean ± std. dev. of 7 runs, 100000 loops each)\n"
     ]
    }
   ],
   "source": [
    "print(solution([[0,0,0,0,0],[0,0,1,0,3],[0,2,5,0,1],[4,2,4,4,2],[3,5,1,3,1]], [1,5,3,5,1,2,1,4])) # 4\n",
    "\n",
    "%timeit solution([[0,0,0,0,0],[0,0,1,0,3],[0,2,5,0,1],[4,2,4,4,2],[3,5,1,3,1]], [1,5,3,5,1,2,1,4])"
   ]
  },
  {
   "cell_type": "markdown",
   "id": "e803c00d",
   "metadata": {},
   "source": [
    "## 2. 튜플\n",
    "\n",
    "https://programmers.co.kr/learn/courses/30/lessons/64065?language=python3"
   ]
  },
  {
   "cell_type": "code",
   "execution_count": 135,
   "id": "a382ccec",
   "metadata": {},
   "outputs": [],
   "source": [
    "from collections import Counter\n",
    "\n",
    "def solution(s):\n",
    "    count = []\n",
    "    s = s[1:-1]\n",
    "    words = [x for x in s.split('},{')]\n",
    "    words[0] = words[0][1:]\n",
    "    words[-1] = words[-1][:-1]\n",
    "    for word in words:\n",
    "        for x in word.split(','):\n",
    "            count.append(int(x))\n",
    "    count = Counter(count).most_common()\n",
    "    return [x[0] for x in count]"
   ]
  },
  {
   "cell_type": "code",
   "execution_count": 136,
   "id": "db391675",
   "metadata": {},
   "outputs": [
    {
     "name": "stdout",
     "output_type": "stream",
     "text": [
      "[2, 1, 3, 4]\n",
      "[2, 1, 3, 4]\n",
      "[111, 20]\n",
      "[123]\n",
      "[3, 2, 4, 1]\n",
      "4.47 µs ± 40.3 ns per loop (mean ± std. dev. of 7 runs, 100000 loops each)\n"
     ]
    }
   ],
   "source": [
    "print(solution(\"{{2},{2,1},{2,1,3},{2,1,3,4}}\")) # [2, 1, 3, 4]\n",
    "print(solution(\"{{1,2,3},{2,1},{1,2,4,3},{2}}\")) # [2, 1, 3, 4]\n",
    "print(solution(\"{{20,111},{111}}\")) # [111, 20]\n",
    "print(solution(\"{{123}}\")) # [123]\n",
    "print(solution(\"{{4,2,3},{3},{2,3,4,1},{2,3}}\")) # [3, 2, 4, 1]\n",
    "\n",
    "%timeit solution(\"{{4,2,3},{3},{2,3,4,1},{2,3}}\")"
   ]
  },
  {
   "cell_type": "code",
   "execution_count": 137,
   "id": "b1010d66",
   "metadata": {},
   "outputs": [
    {
     "name": "stdout",
     "output_type": "stream",
     "text": [
      "4.62 µs ± 48.5 ns per loop (mean ± std. dev. of 7 runs, 100000 loops each)\n"
     ]
    }
   ],
   "source": [
    "import re\n",
    "from collections import Counter\n",
    "\n",
    "def solution(s):\n",
    "    # '\\d+' corresponds to 1 or more digits\n",
    "    s = Counter(re.findall('\\d+', s))   # frequency of each element\n",
    "    return list(map(int, [k for k, v in sorted(s.items(), key=lambda x: x[1], reverse=True)]))\n",
    "\n",
    "%timeit solution(\"{{4,2,3},{3},{2,3,4,1},{2,3}}\")"
   ]
  },
  {
   "cell_type": "markdown",
   "id": "fe94d2d5",
   "metadata": {},
   "source": [
    "## 3. 불량 사용자\n",
    "\n",
    "https://programmers.co.kr/learn/courses/30/lessons/64064?language=python3"
   ]
  },
  {
   "cell_type": "code",
   "execution_count": 291,
   "id": "88e9272f",
   "metadata": {},
   "outputs": [],
   "source": [
    "from itertools import product, groupby\n",
    "\n",
    "def match(str1, str2):\n",
    "    if len(str1) != len(str2):\n",
    "        return False\n",
    "    for i in range(len(str1)):\n",
    "        if str1[i] != str2[i] and str1[i] != '*':\n",
    "            return False\n",
    "    return True\n",
    "\n",
    "def solution(user_id, banned_id):\n",
    "    answer = 0\n",
    "    \n",
    "    \n",
    "    '''\n",
    "    banned_id를 dictionary화 시켜서 이미 perform한 match는 * value 하도록?\n",
    "    '''\n",
    "    \n",
    "    \n",
    "    \n",
    "    ban_list = [[] * x for x in range(len(banned_id))]\n",
    "    for i in range(len(banned_id)):\n",
    "        for user in user_id:\n",
    "            if match(banned_id[i], user):\n",
    "                ban_list[i].append(user)\n",
    "    combos = list(product(*ban_list))\n",
    "    \n",
    "    for i in range(len(combos)):\n",
    "        combos[i] = tuple(sorted(combos[i]))\n",
    "    combos = set(combos)\n",
    "            \n",
    "    for combo in combos:\n",
    "        if len(set(combo)) == len(banned_id):\n",
    "            answer += 1\n",
    "    \n",
    "    return answer"
   ]
  },
  {
   "cell_type": "code",
   "execution_count": 296,
   "id": "08ae2243",
   "metadata": {},
   "outputs": [
    {
     "name": "stdout",
     "output_type": "stream",
     "text": [
      "1\n",
      "11.2 s ± 170 ms per loop (mean ± std. dev. of 7 runs, 1 loop each)\n"
     ]
    }
   ],
   "source": [
    "# print(solution([\"frodo\", \"fradi\", \"crodo\", \"abc123\", \"frodoc\"], [\"fr*d*\", \"abc1**\"])) # 2\n",
    "# print(solution([\"frodo\", \"fradi\", \"crodo\", \"abc123\", \"frodoc\"], [\"*rodo\", \"*rodo\", \"******\"])) # 2\n",
    "# print(solution([\"frodo\", \"fradi\", \"crodo\", \"abc123\", \"frodoc\"], [\"fr*d*\", \"*rodo\", \"******\", \"******\"])) # 3\n",
    "\n",
    "print(solution(['aaaaaaaa', 'bbbbbbbb', 'cccccccc', 'dddddddd', 'eeeeeeee', 'ffffffff', 'gggggggg', 'hhhhhhhh'],\n",
    "               ['********', '********', '********', '********', '********', '********', '********', '********']))\n",
    "# 1\n",
    "\n",
    "%timeit solution(['aaaaaaaa', 'bbbbbbbb', 'cccccccc', 'dddddddd', 'eeeeeeee', 'ffffffff', 'gggggggg', 'hhhhhhhh'],\n",
    "                 ['********', '********', '********', '********', '********', '********', '********', '********'])"
   ]
  },
  {
   "cell_type": "markdown",
   "id": "f1496dea",
   "metadata": {},
   "source": [
    "# 2020 Internship\n",
    "\n",
    "## 1. 키패드 누르기\n",
    "\n",
    "https://programmers.co.kr/learn/courses/30/lessons/67256"
   ]
  },
  {
   "cell_type": "code",
   "execution_count": 52,
   "id": "ba9ea1a9",
   "metadata": {},
   "outputs": [],
   "source": [
    "def solution(numbers, hand):\n",
    "    ans = ''\n",
    "    lefts = [1, 4, 7]\n",
    "    rights = [3, 6, 9]\n",
    "    mids = [2, 5, 8, 0]\n",
    "    l = [3, 0]\n",
    "    r = [3, 2]\n",
    "    for num in numbers:\n",
    "        if num in lefts:\n",
    "            ans += 'L'\n",
    "            l = [lefts.index(num), 0]\n",
    "        elif num in rights:\n",
    "            ans += 'R'\n",
    "            r = [rights.index(num), 2]\n",
    "        else:\n",
    "            idx = mids.index(num)\n",
    "            if abs(idx-l[0])+abs(1-l[1]) < abs(idx-r[0])+abs(1-r[1]):\n",
    "                ans += 'L'\n",
    "                l = [idx, 1]\n",
    "            elif abs(idx-l[0])+abs(1-l[1]) > abs(idx-r[0])+abs(1-r[1]):\n",
    "                ans += 'R'\n",
    "                r = [idx, 1]\n",
    "            else:\n",
    "                if hand == 'left':\n",
    "                    ans += 'L'\n",
    "                    l = [idx, 1]\n",
    "                else:\n",
    "                    ans += 'R'\n",
    "                    r = [idx, 1]\n",
    "    return ans"
   ]
  },
  {
   "cell_type": "code",
   "execution_count": 53,
   "id": "5b5ff8c4",
   "metadata": {},
   "outputs": [
    {
     "name": "stdout",
     "output_type": "stream",
     "text": [
      "LRLLLRLLRRL\n",
      "LRLLRRLLLRR\n",
      "LLRLLRLLRL\n",
      "4.11 µs ± 28.7 ns per loop (mean ± std. dev. of 7 runs, 100000 loops each)\n"
     ]
    }
   ],
   "source": [
    "print(solution([1, 3, 4, 5, 8, 2, 1, 4, 5, 9, 5], \"right\")) # \"LRLLLRLLRRL\"\n",
    "print(solution([7, 0, 8, 2, 8, 3, 1, 5, 7, 6, 2], \"left\")) # \"LRLLRRLLLRR\"\n",
    "print(solution([1, 2, 3, 4, 5, 6, 7, 8, 9, 0], \"right\")) # \"LLRLLRLLRL\"\n",
    "\n",
    "%timeit solution([1, 3, 4, 5, 8, 2, 1, 4, 5, 9, 5], \"right\")"
   ]
  },
  {
   "cell_type": "markdown",
   "id": "73fc723f",
   "metadata": {},
   "source": [
    "## 2. 수식 최대화\n",
    "\n",
    "https://programmers.co.kr/learn/courses/30/lessons/67257"
   ]
  },
  {
   "cell_type": "code",
   "execution_count": 186,
   "id": "bc4ee0cf",
   "metadata": {},
   "outputs": [],
   "source": [
    "from itertools import permutations\n",
    "\n",
    "def solution(expression):\n",
    "    ans = 0\n",
    "    ops = ['+', '-', '*']\n",
    "    perms = [perm for perm in permutations(ops, 3)]\n",
    "    \n",
    "    for perm in perms:\n",
    "        last = perm[-1]\n",
    "        seco = perm[1]\n",
    "        equation = []\n",
    "        for i in expression.split(last):\n",
    "            tmp = [f'({j})' for j in i.split(seco)]\n",
    "            equation.append(f'({seco.join(tmp)})')\n",
    "        equation = last.join(equation)\n",
    "        ans = max(ans, abs(eval(equation)))\n",
    "    return ans"
   ]
  },
  {
   "cell_type": "code",
   "execution_count": 187,
   "id": "bf4933f6",
   "metadata": {},
   "outputs": [
    {
     "name": "stdout",
     "output_type": "stream",
     "text": [
      "60420\n",
      "300\n",
      "67.9 µs ± 613 ns per loop (mean ± std. dev. of 7 runs, 10000 loops each)\n"
     ]
    }
   ],
   "source": [
    "print(solution(\"100-200*300-500+20\")) # 60420\n",
    "print(solution(\"50*6-3*2\")) # 300\n",
    "\n",
    "%timeit solution(\"100-200*300-500+20\")"
   ]
  },
  {
   "cell_type": "markdown",
   "id": "5947b5c2",
   "metadata": {},
   "source": [
    "## 3. 보석 쇼핑\n",
    "\n",
    "https://programmers.co.kr/learn/courses/30/lessons/67258?language=python3"
   ]
  },
  {
   "cell_type": "code",
   "execution_count": null,
   "id": "6f58b74f",
   "metadata": {},
   "outputs": [],
   "source": []
  },
  {
   "cell_type": "markdown",
   "id": "15fd24a3",
   "metadata": {},
   "source": [
    "# 2021 Internship\n",
    "\n",
    "## 1. 숫자 문자열과 영단어\n",
    "\n",
    "https://programmers.co.kr/learn/courses/30/lessons/81301?language=python3"
   ]
  },
  {
   "cell_type": "code",
   "execution_count": 40,
   "id": "adc4bc1f",
   "metadata": {},
   "outputs": [],
   "source": [
    "import re\n",
    "\n",
    "def wordtonum(x):\n",
    "    words = ['zero', 'one', 'two', 'three', 'four', 'five', 'six', 'seven', 'eight', 'nine']\n",
    "    if x in words:\n",
    "        return str(words.index(x))\n",
    "    else:\n",
    "        for i in range(1, len(x)):\n",
    "            if x[:i] in words:\n",
    "                return ''.join([str(words.index(x[:i])), wordtonum(x[i:])])\n",
    "\n",
    "def solution(s):\n",
    "    try:\n",
    "        return int(s)\n",
    "    except ValueError:\n",
    "        ans = ''\n",
    "        res = re.findall('(\\d+|[A-Za-z]+)', s)\n",
    "        for c in res:\n",
    "            if c.isnumeric():\n",
    "                ans += str(c)\n",
    "            else:\n",
    "                ans += wordtonum(c)\n",
    "        return int(ans)"
   ]
  },
  {
   "cell_type": "code",
   "execution_count": 41,
   "id": "977b7faf",
   "metadata": {},
   "outputs": [
    {
     "name": "stdout",
     "output_type": "stream",
     "text": [
      "1478\n",
      "234567\n",
      "234567\n",
      "123\n",
      "5.09 µs ± 39 ns per loop (mean ± std. dev. of 7 runs, 100000 loops each)\n"
     ]
    }
   ],
   "source": [
    "print(solution(\"one4seveneight\")) # 1478\n",
    "print(solution(\"23four5six7\")) #234567\n",
    "print(solution(\"2three45sixseven\")) #234567\n",
    "print(solution(\"123\")) # 123\n",
    "\n",
    "%timeit solution(\"2three45sixseven\")"
   ]
  },
  {
   "cell_type": "markdown",
   "id": "226ff650",
   "metadata": {},
   "source": [
    "## 2. 거리두기 확인하기\n",
    "\n",
    "https://programmers.co.kr/learn/courses/30/lessons/81302?language=python3"
   ]
  },
  {
   "cell_type": "code",
   "execution_count": null,
   "id": "5739c7a8",
   "metadata": {},
   "outputs": [],
   "source": []
  }
 ],
 "metadata": {
  "kernelspec": {
   "display_name": "Python 3",
   "language": "python",
   "name": "python3"
  },
  "language_info": {
   "codemirror_mode": {
    "name": "ipython",
    "version": 3
   },
   "file_extension": ".py",
   "mimetype": "text/x-python",
   "name": "python",
   "nbconvert_exporter": "python",
   "pygments_lexer": "ipython3",
   "version": "3.8.8"
  }
 },
 "nbformat": 4,
 "nbformat_minor": 5
}

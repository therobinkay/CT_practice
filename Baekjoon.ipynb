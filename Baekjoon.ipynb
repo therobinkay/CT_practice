{
 "cells": [
  {
   "cell_type": "markdown",
   "id": "a0e92e9b",
   "metadata": {},
   "source": [
    "# Greedy\n",
    "\n",
    "## 주유소 (실4)\n",
    "\n",
    "https://www.acmicpc.net/problem/13305"
   ]
  },
  {
   "cell_type": "code",
   "execution_count": 17,
   "id": "7da777c6",
   "metadata": {},
   "outputs": [
    {
     "name": "stdout",
     "output_type": "stream",
     "text": [
      "5\n",
      "2 3 1 1\n",
      "5 2 4 1 1\n",
      "19\n"
     ]
    }
   ],
   "source": [
    "n = int(input())\n",
    "dists = list(map(int, input().split()))\n",
    "prices = list(map(int, input().split()))\n",
    "\n",
    "indices = []\n",
    "tmp = prices[0]\n",
    "\n",
    "# find indices where the prices decrease\n",
    "for i in range(1, n-1):\n",
    "    if prices[i] < tmp:\n",
    "        indices.append(i)\n",
    "        tmp = prices[i]\n",
    "        \n",
    "# if no lower prices than the 1st station\n",
    "if not indices:\n",
    "    print(prices[0]*sum(dists))\n",
    "# if the prices get lower\n",
    "else:\n",
    "    # initial\n",
    "    ans = prices[0]*sum(dists[:indices[0]])\n",
    "    for i in range(len(indices)-1):\n",
    "        ans += prices[indices[i]]*sum(dists[indices[i]:indices[i+1]])\n",
    "    # add last\n",
    "    print(ans + prices[indices[-1]]*sum(dists[indices[-1]:]))"
   ]
  },
  {
   "cell_type": "markdown",
   "id": "db4813fb",
   "metadata": {},
   "source": [
    "## 캠핑 (실5)\n",
    "https://www.acmicpc.net/problem/4796"
   ]
  },
  {
   "cell_type": "code",
   "execution_count": 19,
   "id": "5601d8b1",
   "metadata": {},
   "outputs": [
    {
     "name": "stdout",
     "output_type": "stream",
     "text": [
      "5 8 20\n",
      "Case 1: 14\n",
      "5 8 17\n",
      "Case 2: 11\n",
      "0 0 0\n"
     ]
    }
   ],
   "source": [
    "n = 1\n",
    "\n",
    "while True:\n",
    "    lpv = list(map(int, input().split()))\n",
    "    if sum(lpv) == 0:\n",
    "        break\n",
    "    print(f'Case {n}: {lpv[0]*(lpv[-1]//lpv[1])+min(lpv[0], lpv[-1]%lpv[1])}')\n",
    "    n += 1"
   ]
  },
  {
   "cell_type": "markdown",
   "id": "e213dbcd",
   "metadata": {},
   "source": [
    "## 기타줄 (실4)\n",
    "\n",
    "https://www.acmicpc.net/problem/1049"
   ]
  },
  {
   "cell_type": "code",
   "execution_count": 29,
   "id": "52c09ab1",
   "metadata": {},
   "outputs": [
    {
     "name": "stdout",
     "output_type": "stream",
     "text": [
      "7 2\n",
      "10 3\n",
      "12 2\n",
      "12\n"
     ]
    }
   ],
   "source": [
    "import math\n",
    "\n",
    "n, m = map(int, input().split())\n",
    "\n",
    "packs, strings = n//6, n%6\n",
    "\n",
    "if m == 1:\n",
    "    a, b = map(int, input().split())\n",
    "    print(min(a*packs+b*strings, a*(packs+math.ceil(0.1*strings)), b*(packs*6+strings)))\n",
    "else:\n",
    "    a, b = map(int, input().split())\n",
    "    for _ in range(m-1):\n",
    "        x, y = map(int, input().split())\n",
    "        a = min(a, x)\n",
    "        b = min(b, y)\n",
    "    print(min(a*packs+b*strings, a*(packs+math.ceil(0.1*strings)), b*(packs*6+strings)))"
   ]
  },
  {
   "cell_type": "markdown",
   "id": "3a87b71f",
   "metadata": {},
   "source": [
    "## 회의실 배정 (실1)\n",
    "\n",
    "https://www.acmicpc.net/problem/1931"
   ]
  },
  {
   "cell_type": "code",
   "execution_count": 11,
   "id": "34201d3d",
   "metadata": {},
   "outputs": [
    {
     "name": "stdout",
     "output_type": "stream",
     "text": [
      "4\n"
     ]
    }
   ],
   "source": [
    "n = int(input())\n",
    "stack = [[0]*2 for _ in range(n)]\n",
    "\n",
    "for i in range(n):\n",
    "    a, b = map(int, input().split())\n",
    "    stack[i][0] = a\n",
    "    stack[i][1] = b\n",
    "\n",
    "stack.sort(key = lambda x: (x[1], x[0]))\n",
    "\n",
    "ans, end = 0, 0\n",
    "\n",
    "for s, e in stack:\n",
    "    if s >= end:\n",
    "        ans += 1\n",
    "        end = e\n",
    "\n",
    "print(ans)"
   ]
  },
  {
   "cell_type": "markdown",
   "id": "3a89d5b6",
   "metadata": {},
   "source": [
    "# 자료구조"
   ]
  },
  {
   "cell_type": "markdown",
   "id": "d1f4983e",
   "metadata": {},
   "source": [
    "## 오큰수 (골4)\n",
    "\n",
    "https://www.acmicpc.net/problem/17298"
   ]
  },
  {
   "cell_type": "code",
   "execution_count": 26,
   "id": "78d0e18b",
   "metadata": {},
   "outputs": [
    {
     "name": "stdout",
     "output_type": "stream",
     "text": [
      "4\n",
      "9 5 4 8\n",
      "[-1, 8, 8, -1]\n"
     ]
    }
   ],
   "source": [
    "# fails optimization\n",
    "\n",
    "n = int(input())\n",
    "nums = list(map(int, input().split()))\n",
    "\n",
    "ans = []\n",
    "x, max_val = nums[0], max(nums)\n",
    "\n",
    "for num in nums:\n",
    "    if len(ans) == len(nums)-1:\n",
    "        ans.append(-1)\n",
    "    elif num == max_val:\n",
    "        ans.append(-1)\n",
    "    elif num == x and ans:\n",
    "        ans.append(ans.index(x))\n",
    "    else:        \n",
    "        a, i = nums.index(num), 1\n",
    "        while a+1 <= len(nums)-1:\n",
    "            if nums[a+i] > nums[a]:\n",
    "                ans.append(nums[a+i])\n",
    "                break\n",
    "            i += 1\n",
    "        if a+1 == len(nums):\n",
    "            if num < nums[-1]:\n",
    "                ans.append(nums[-1])\n",
    "            else:\n",
    "                ans.append(-1)\n",
    "        x = num\n",
    "        \n",
    "print(ans)"
   ]
  },
  {
   "cell_type": "code",
   "execution_count": 32,
   "id": "5981c393",
   "metadata": {},
   "outputs": [
    {
     "name": "stdout",
     "output_type": "stream",
     "text": [
      "4\n",
      "3 5 2 7\n",
      "5 7 7 -1\n"
     ]
    }
   ],
   "source": [
    "n = int(input())\n",
    "nums = list(map(int, input().split()))\n",
    "stack = [0]\n",
    "ans = [-1]*n\n",
    "\n",
    "for i in range(1, n):\n",
    "    while stack and nums[i] > nums[stack[-1]]:\n",
    "        ans[stack.pop()] = nums[i]\n",
    "    stack.append(i)\n",
    "    \n",
    "print(*ans)"
   ]
  },
  {
   "cell_type": "code",
   "execution_count": null,
   "id": "35ab6701",
   "metadata": {},
   "outputs": [],
   "source": []
  }
 ],
 "metadata": {
  "kernelspec": {
   "display_name": "Python 3",
   "language": "python",
   "name": "python3"
  },
  "language_info": {
   "codemirror_mode": {
    "name": "ipython",
    "version": 3
   },
   "file_extension": ".py",
   "mimetype": "text/x-python",
   "name": "python",
   "nbconvert_exporter": "python",
   "pygments_lexer": "ipython3",
   "version": "3.8.8"
  }
 },
 "nbformat": 4,
 "nbformat_minor": 5
}

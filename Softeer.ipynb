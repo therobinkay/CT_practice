{
 "cells": [
  {
   "cell_type": "code",
   "execution_count": null,
   "id": "08f73f40",
   "metadata": {},
   "outputs": [],
   "source": [
    "import sys"
   ]
  },
  {
   "cell_type": "markdown",
   "id": "197f88ac",
   "metadata": {},
   "source": [
    "# Level 2"
   ]
  },
  {
   "cell_type": "markdown",
   "id": "9dc75d9c",
   "metadata": {},
   "source": [
    "## 회의실 예약\n",
    "\n",
    "https://softeer.ai/practice/info.do?eventIdx=1&psProblemId=626"
   ]
  },
  {
   "cell_type": "code",
   "execution_count": 2,
   "id": "e461aebc",
   "metadata": {},
   "outputs": [
    {
     "name": "stdout",
     "output_type": "stream",
     "text": [
      "3 7\n",
      "grandeur\n",
      "avante\n",
      "sonata\n",
      "sonata 14 16\n",
      "grandeur 11 12\n",
      "avante 15 18\n",
      "sonata 10 11\n",
      "avante 9 12\n",
      "grandeur 16 18\n",
      "avante 12 15\n",
      "Room avante:\n",
      "Not available\n",
      "-----\n",
      "Room grandeur:\n",
      "2 available:\n",
      "09-11\n",
      "12-16\n",
      "-----\n",
      "Room sonata:\n",
      "3 available:\n",
      "09-10\n",
      "11-14\n",
      "16-18\n"
     ]
    }
   ],
   "source": [
    "n, m = map(int, input().split())\n",
    "rooms = dict()\n",
    "\n",
    "for _ in range(n):\n",
    "    rooms[input()] = []\n",
    "\n",
    "for _ in range(m):\n",
    "    name, start, end = input().split()\n",
    "    for i in range(int(start), int(end)):\n",
    "        rooms[name].append(i)\n",
    "    if int(end) == 18:\n",
    "        rooms[name].append(18)\n",
    "\n",
    "rooms = {key:rooms[key] for key in sorted(rooms.keys())}\n",
    "\n",
    "for k, v in rooms.items():\n",
    "    print(f'Room {k}:')\n",
    "    if len(v) == 10:\n",
    "        print('Not available')\n",
    "    else:\n",
    "        going = False\n",
    "        tmp = ''\n",
    "        availability = []\n",
    "        for i in range(9, 19):\n",
    "            if i in v:\n",
    "                if going:\n",
    "                    tmp += str(i)\n",
    "                    availability.append(tmp)\n",
    "                    going = False\n",
    "                    tmp = ''\n",
    "            else:\n",
    "                if not going:\n",
    "                    if i == 9:\n",
    "                        tmp += '09'\n",
    "                    else:\n",
    "                        tmp += str(i)\n",
    "                    tmp += '-'\n",
    "                    going = True\n",
    "        if going:\n",
    "            tmp += str(18)\n",
    "            availability.append(tmp)\n",
    "        print(len(availability), 'available:')\n",
    "        for a in availability:\n",
    "            print(a)\n",
    "\n",
    "    if k != list(rooms.keys())[-1]:\n",
    "        print('-----')"
   ]
  },
  {
   "cell_type": "markdown",
   "id": "d1a7ac68",
   "metadata": {},
   "source": [
    "## 전광판\n",
    "\n",
    "https://softeer.ai/practice/info.do?eventIdx=1&psProblemId=624"
   ]
  },
  {
   "cell_type": "code",
   "execution_count": 3,
   "id": "0aabfd6e",
   "metadata": {},
   "outputs": [
    {
     "name": "stdout",
     "output_type": "stream",
     "text": [
      "2\n",
      "1 2\n",
      "9881 10724\n",
      "5\n",
      "11\n"
     ]
    }
   ],
   "source": [
    "nums = [x for x in range(10)]\n",
    "counts = [[1,1,1,0,1,1,1],[0,0,1,0,0,1,0],[0,1,1,1,1,0,1],[0,1,1,1,0,1,1],[1,0,1,1,0,1,0],\n",
    "          [1,1,0,1,0,1,1],[1,1,0,1,1,1,1],[1,1,1,0,0,1,0],[1,1,1,1,1,1,1],[1,1,1,1,0,1,1]]\n",
    "\n",
    "n = int(input())\n",
    "group_a, group_b = [], []\n",
    "\n",
    "for _ in range(n):\n",
    "    a, b = map(str, input().split())\n",
    "    if len(a) != 5:\n",
    "        a = 'X'*(5-len(a)) + a\n",
    "    if len(b) != 5:\n",
    "        b = 'X'*(5-len(b)) + b\n",
    "\n",
    "    group_a.append(a)\n",
    "    group_b.append(b)\n",
    "\n",
    "for i in range(n):\n",
    "    ans = 0\n",
    "    a, b = group_a[i], group_b[i]\n",
    "    for j in range(5):\n",
    "        if a[j] != b[j]:\n",
    "            if a[j] == 'X':\n",
    "                ans += sum(counts[int(b[j])])\n",
    "            elif b[j] == 'X':\n",
    "                ans += sum(counts[int(a[j])])\n",
    "            else:\n",
    "                pos1, pos2 = counts[int(a[j])], counts[int(b[j])]\n",
    "                for k in range(7):\n",
    "                    if pos1[k] != pos2[k]:\n",
    "                        ans += 1\n",
    "    print(ans)"
   ]
  },
  {
   "cell_type": "markdown",
   "id": "4568c65a",
   "metadata": {},
   "source": [
    "## 비밀 메뉴\n",
    "\n",
    "https://softeer.ai/practice/info.do?eventIdx=1&psProblemId=623"
   ]
  },
  {
   "cell_type": "code",
   "execution_count": null,
   "id": "9d32365e",
   "metadata": {},
   "outputs": [],
   "source": [
    "# failed\n",
    "\n",
    "m, n, k = map(int, input().split())\n",
    "\n",
    "code = list(map(int,input().split()))\n",
    "pressed = list(map(int,input().split()))\n",
    "\n",
    "seq = code.copy()\n",
    "\n",
    "if n < m:\n",
    "    print('normal')\n",
    "else:\n",
    "    for i in range(len(pressed)):\n",
    "        if not seq or len(pressed)-i < len(seq):\n",
    "            break\n",
    "        \n",
    "        if pressed[i] == seq[0]:\n",
    "            seq.pop(0)\n",
    "        else:\n",
    "            seq = code.copy()\n",
    "\n",
    "    if seq:\n",
    "        print('normal')\n",
    "    else:\n",
    "        print('secret')"
   ]
  },
  {
   "cell_type": "code",
   "execution_count": null,
   "id": "c4120bfe",
   "metadata": {},
   "outputs": [],
   "source": [
    "m, n, k = map(int, input().split())\n",
    "\n",
    "code = list(map(int,input().split()))\n",
    "pressed = list(map(int,input().split()))\n",
    "\n",
    "secret = False\n",
    "\n",
    "if n < m:\n",
    "    print('normal')\n",
    "else:\n",
    "    for i in range(len(pressed)):\n",
    "        if pressed[i] == code[0]:\n",
    "            if pressed[i:i+m] == code:\n",
    "                secret = True\n",
    "                break\n",
    "    if secret:\n",
    "        print('secret')\n",
    "    else:\n",
    "        print('normal')"
   ]
  }
 ],
 "metadata": {
  "kernelspec": {
   "display_name": "Python 3",
   "language": "python",
   "name": "python3"
  },
  "language_info": {
   "codemirror_mode": {
    "name": "ipython",
    "version": 3
   },
   "file_extension": ".py",
   "mimetype": "text/x-python",
   "name": "python",
   "nbconvert_exporter": "python",
   "pygments_lexer": "ipython3",
   "version": "3.8.8"
  }
 },
 "nbformat": 4,
 "nbformat_minor": 5
}

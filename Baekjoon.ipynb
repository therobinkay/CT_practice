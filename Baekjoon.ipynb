{
 "cells": [
  {
   "cell_type": "markdown",
   "id": "f075760b",
   "metadata": {},
   "source": [
    "# Greedy\n",
    "\n",
    "## 주유소 (실4)\n",
    "\n",
    "https://www.acmicpc.net/problem/13305"
   ]
  },
  {
   "cell_type": "code",
   "execution_count": 17,
   "id": "a063baa8",
   "metadata": {},
   "outputs": [
    {
     "name": "stdout",
     "output_type": "stream",
     "text": [
      "5\n",
      "2 3 1 1\n",
      "5 2 4 1 1\n",
      "19\n"
     ]
    }
   ],
   "source": [
    "n = int(input())\n",
    "dists = list(map(int, input().split()))\n",
    "prices = list(map(int, input().split()))\n",
    "\n",
    "indices = []\n",
    "tmp = prices[0]\n",
    "\n",
    "# find indices where the prices decrease\n",
    "for i in range(1, n-1):\n",
    "    if prices[i] < tmp:\n",
    "        indices.append(i)\n",
    "        tmp = prices[i]\n",
    "        \n",
    "# if no lower prices than the 1st station\n",
    "if not indices:\n",
    "    print(prices[0]*sum(dists))\n",
    "# if the prices get lower\n",
    "else:\n",
    "    # initial\n",
    "    ans = prices[0]*sum(dists[:indices[0]])\n",
    "    for i in range(len(indices)-1):\n",
    "        ans += prices[indices[i]]*sum(dists[indices[i]:indices[i+1]])\n",
    "    # add last\n",
    "    print(ans + prices[indices[-1]]*sum(dists[indices[-1]:]))"
   ]
  },
  {
   "cell_type": "code",
   "execution_count": null,
   "id": "10fd37da",
   "metadata": {},
   "outputs": [],
   "source": []
  }
 ],
 "metadata": {
  "kernelspec": {
   "display_name": "Python 3",
   "language": "python",
   "name": "python3"
  },
  "language_info": {
   "codemirror_mode": {
    "name": "ipython",
    "version": 3
   },
   "file_extension": ".py",
   "mimetype": "text/x-python",
   "name": "python",
   "nbconvert_exporter": "python",
   "pygments_lexer": "ipython3",
   "version": "3.8.8"
  }
 },
 "nbformat": 4,
 "nbformat_minor": 5
}

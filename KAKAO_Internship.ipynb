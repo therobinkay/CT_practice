{
 "cells": [
  {
   "cell_type": "markdown",
   "id": "80c62b9e",
   "metadata": {},
   "source": [
    "# 2019 Internship\n",
    "\n",
    "## 1. 크레인 인형뽑기 게임\n",
    "\n",
    "https://programmers.co.kr/learn/courses/30/lessons/64061"
   ]
  },
  {
   "cell_type": "code",
   "execution_count": 62,
   "id": "735eac3b",
   "metadata": {},
   "outputs": [],
   "source": [
    "def solution(board, moves):\n",
    "    ans = 0\n",
    "    moves = [x-1 for x in moves]\n",
    "    stack = [0]\n",
    "    for move in moves:\n",
    "        for row in range(len(board)):\n",
    "            if board[row][move] != 0:\n",
    "                if stack[-1] == board[row][move]:\n",
    "                    stack.pop()\n",
    "                    ans += 2\n",
    "                else:\n",
    "                    stack.append(board[row][move])\n",
    "                board[row][move] = 0\n",
    "                break\n",
    "    return ans"
   ]
  },
  {
   "cell_type": "code",
   "execution_count": 63,
   "id": "091e1b4c",
   "metadata": {},
   "outputs": [
    {
     "name": "stdout",
     "output_type": "stream",
     "text": [
      "4\n",
      "4.98 µs ± 26.5 ns per loop (mean ± std. dev. of 7 runs, 100000 loops each)\n"
     ]
    }
   ],
   "source": [
    "print(solution([[0,0,0,0,0],[0,0,1,0,3],[0,2,5,0,1],[4,2,4,4,2],[3,5,1,3,1]], [1,5,3,5,1,2,1,4])) # 4\n",
    "\n",
    "%timeit solution([[0,0,0,0,0],[0,0,1,0,3],[0,2,5,0,1],[4,2,4,4,2],[3,5,1,3,1]], [1,5,3,5,1,2,1,4])"
   ]
  },
  {
   "cell_type": "markdown",
   "id": "ed15ce04",
   "metadata": {},
   "source": [
    "# 2020 Internship\n",
    "\n",
    "## 1. 키패드 누르기\n",
    "\n",
    "https://programmers.co.kr/learn/courses/30/lessons/67256"
   ]
  },
  {
   "cell_type": "code",
   "execution_count": 52,
   "id": "ff2829aa",
   "metadata": {},
   "outputs": [],
   "source": [
    "def solution(numbers, hand):\n",
    "    ans = ''\n",
    "    lefts = [1, 4, 7]\n",
    "    rights = [3, 6, 9]\n",
    "    mids = [2, 5, 8, 0]\n",
    "    l = [3, 0]\n",
    "    r = [3, 2]\n",
    "    for num in numbers:\n",
    "        if num in lefts:\n",
    "            ans += 'L'\n",
    "            l = [lefts.index(num), 0]\n",
    "        elif num in rights:\n",
    "            ans += 'R'\n",
    "            r = [rights.index(num), 2]\n",
    "        else:\n",
    "            idx = mids.index(num)\n",
    "            if abs(idx-l[0])+abs(1-l[1]) < abs(idx-r[0])+abs(1-r[1]):\n",
    "                ans += 'L'\n",
    "                l = [idx, 1]\n",
    "            elif abs(idx-l[0])+abs(1-l[1]) > abs(idx-r[0])+abs(1-r[1]):\n",
    "                ans += 'R'\n",
    "                r = [idx, 1]\n",
    "            else:\n",
    "                if hand == 'left':\n",
    "                    ans += 'L'\n",
    "                    l = [idx, 1]\n",
    "                else:\n",
    "                    ans += 'R'\n",
    "                    r = [idx, 1]\n",
    "    return ans"
   ]
  },
  {
   "cell_type": "code",
   "execution_count": 53,
   "id": "69ec597e",
   "metadata": {},
   "outputs": [
    {
     "name": "stdout",
     "output_type": "stream",
     "text": [
      "LRLLLRLLRRL\n",
      "LRLLRRLLLRR\n",
      "LLRLLRLLRL\n",
      "4.11 µs ± 28.7 ns per loop (mean ± std. dev. of 7 runs, 100000 loops each)\n"
     ]
    }
   ],
   "source": [
    "print(solution([1, 3, 4, 5, 8, 2, 1, 4, 5, 9, 5], \"right\")) # \"LRLLLRLLRRL\"\n",
    "print(solution([7, 0, 8, 2, 8, 3, 1, 5, 7, 6, 2], \"left\")) # \"LRLLRRLLLRR\"\n",
    "print(solution([1, 2, 3, 4, 5, 6, 7, 8, 9, 0], \"right\")) # \"LLRLLRLLRL\"\n",
    "\n",
    "%timeit solution([1, 3, 4, 5, 8, 2, 1, 4, 5, 9, 5], \"right\")"
   ]
  },
  {
   "cell_type": "markdown",
   "id": "74e20a29",
   "metadata": {},
   "source": [
    "## 2. 수식 최대화\n",
    "\n",
    "https://programmers.co.kr/learn/courses/30/lessons/67257"
   ]
  },
  {
   "cell_type": "code",
   "execution_count": null,
   "id": "542a48ff",
   "metadata": {},
   "outputs": [],
   "source": []
  },
  {
   "cell_type": "markdown",
   "id": "a69e810c",
   "metadata": {},
   "source": [
    "# 2021 Internship\n",
    "\n",
    "## 1. 숫자 문자열과 영단어\n",
    "\n",
    "https://programmers.co.kr/learn/courses/30/lessons/81301?language=python3"
   ]
  },
  {
   "cell_type": "code",
   "execution_count": 40,
   "id": "bb52b304",
   "metadata": {},
   "outputs": [],
   "source": [
    "import re\n",
    "\n",
    "def wordtonum(x):\n",
    "    words = ['zero', 'one', 'two', 'three', 'four', 'five', 'six', 'seven', 'eight', 'nine']\n",
    "    if x in words:\n",
    "        return str(words.index(x))\n",
    "    else:\n",
    "        for i in range(1, len(x)):\n",
    "            if x[:i] in words:\n",
    "                return ''.join([str(words.index(x[:i])), wordtonum(x[i:])])\n",
    "\n",
    "def solution(s):\n",
    "    try:\n",
    "        return int(s)\n",
    "    except ValueError:\n",
    "        ans = ''\n",
    "        res = re.findall('(\\d+|[A-Za-z]+)', s)\n",
    "        for c in res:\n",
    "            if c.isnumeric():\n",
    "                ans += str(c)\n",
    "            else:\n",
    "                ans += wordtonum(c)\n",
    "        return int(ans)"
   ]
  },
  {
   "cell_type": "code",
   "execution_count": 41,
   "id": "9f0a195f",
   "metadata": {},
   "outputs": [
    {
     "name": "stdout",
     "output_type": "stream",
     "text": [
      "1478\n",
      "234567\n",
      "234567\n",
      "123\n",
      "5.09 µs ± 39 ns per loop (mean ± std. dev. of 7 runs, 100000 loops each)\n"
     ]
    }
   ],
   "source": [
    "print(solution(\"one4seveneight\")) # 1478\n",
    "print(solution(\"23four5six7\")) #234567\n",
    "print(solution(\"2three45sixseven\")) #234567\n",
    "print(solution(\"123\")) # 123\n",
    "\n",
    "%timeit solution(\"2three45sixseven\")"
   ]
  },
  {
   "cell_type": "markdown",
   "id": "48eabc3c",
   "metadata": {},
   "source": [
    "## 2. 거리두기 확인하기\n",
    "\n",
    "https://programmers.co.kr/learn/courses/30/lessons/81302?language=python3"
   ]
  },
  {
   "cell_type": "code",
   "execution_count": null,
   "id": "f4eaefad",
   "metadata": {},
   "outputs": [],
   "source": []
  }
 ],
 "metadata": {
  "kernelspec": {
   "display_name": "Python 3",
   "language": "python",
   "name": "python3"
  },
  "language_info": {
   "codemirror_mode": {
    "name": "ipython",
    "version": 3
   },
   "file_extension": ".py",
   "mimetype": "text/x-python",
   "name": "python",
   "nbconvert_exporter": "python",
   "pygments_lexer": "ipython3",
   "version": "3.8.8"
  }
 },
 "nbformat": 4,
 "nbformat_minor": 5
}
